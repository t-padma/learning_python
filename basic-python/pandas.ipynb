{
 "cells": [
  {
   "cell_type": "markdown",
   "metadata": {},
   "source": [
    "# <a id='toc1_'></a>[Working with the `pandas` module](#toc0_)\n",
    "Based on [pandas workshop](https://github.com/stefmolin/pandas-workshop/blob/main/notebooks/1-getting_started_with_pandas.ipynb) by Steph Molin"
   ]
  },
  {
   "cell_type": "markdown",
   "metadata": {},
   "source": [
    "**Table of contents**<a id='toc0_'></a>    \n",
    "- [Working with the `pandas` module](#toc1_)    \n",
    "  - [Create or upload data as `DataFrame`](#toc1_1_)    \n",
    "  - [Working with Series](#toc1_2_)    \n",
    "  - [Working with DataFrames](#toc1_3_)    \n",
    "    - [Getting an verview of the `DataFrame`](#toc1_3_1_)    \n",
    "    - [Accessing rows and columns (OR) Subsetting data frames](#toc1_3_2_)    \n",
    "    - [Basic Summary Statistics of a data frame](#toc1_3_3_)    \n",
    "  - [Categorical data types](#toc1_4_)    \n",
    "\n",
    "<!-- vscode-jupyter-toc-config\n",
    "\tnumbering=false\n",
    "\tanchor=true\n",
    "\tflat=false\n",
    "\tminLevel=1\n",
    "\tmaxLevel=6\n",
    "\t/vscode-jupyter-toc-config -->\n",
    "<!-- THIS CELL WILL BE REPLACED ON TOC UPDATE. DO NOT WRITE YOUR TEXT IN THIS CELL -->"
   ]
  },
  {
   "cell_type": "code",
   "execution_count": 15,
   "metadata": {},
   "outputs": [],
   "source": [
    "import pandas as pd\n",
    "import math\n",
    "import numpy as np"
   ]
  },
  {
   "cell_type": "markdown",
   "metadata": {},
   "source": [
    "## <a id='toc1_1_'></a>[Create or upload data as `DataFrame`](#toc0_)"
   ]
  },
  {
   "cell_type": "markdown",
   "metadata": {},
   "source": [
    "`DataFrame` data structures can be constructed from dictionaries and numpy arrays."
   ]
  },
  {
   "cell_type": "code",
   "execution_count": 16,
   "metadata": {},
   "outputs": [
    {
     "name": "stdout",
     "output_type": "stream",
     "text": [
      "AAA      int64\n",
      "BBB    float64\n",
      "CCC     object\n",
      "dtype: object\n"
     ]
    },
    {
     "data": {
      "application/vnd.microsoft.datawrangler.viewer.v0+json": {
       "columns": [
        {
         "name": "index",
         "rawType": "int64",
         "type": "integer"
        },
        {
         "name": "AAA",
         "rawType": "int64",
         "type": "integer"
        },
        {
         "name": "BBB",
         "rawType": "float64",
         "type": "float"
        },
        {
         "name": "CCC",
         "rawType": "object",
         "type": "unknown"
        }
       ],
       "conversionMethod": "pd.DataFrame",
       "ref": "16c76213-bf28-4f59-948a-8adb8c2c6284",
       "rows": [
        [
         "0",
         "4",
         "10.0",
         "100"
        ],
        [
         "1",
         "5",
         "20.4",
         "50"
        ],
        [
         "2",
         "6",
         "3.141592653589793",
         "-30"
        ],
        [
         "3",
         "7",
         "40.0",
         "-50"
        ]
       ],
       "shape": {
        "columns": 3,
        "rows": 4
       }
      },
      "text/html": [
       "<div>\n",
       "<style scoped>\n",
       "    .dataframe tbody tr th:only-of-type {\n",
       "        vertical-align: middle;\n",
       "    }\n",
       "\n",
       "    .dataframe tbody tr th {\n",
       "        vertical-align: top;\n",
       "    }\n",
       "\n",
       "    .dataframe thead th {\n",
       "        text-align: right;\n",
       "    }\n",
       "</style>\n",
       "<table border=\"1\" class=\"dataframe\">\n",
       "  <thead>\n",
       "    <tr style=\"text-align: right;\">\n",
       "      <th></th>\n",
       "      <th>AAA</th>\n",
       "      <th>BBB</th>\n",
       "      <th>CCC</th>\n",
       "    </tr>\n",
       "  </thead>\n",
       "  <tbody>\n",
       "    <tr>\n",
       "      <th>0</th>\n",
       "      <td>4</td>\n",
       "      <td>10.000000</td>\n",
       "      <td>100</td>\n",
       "    </tr>\n",
       "    <tr>\n",
       "      <th>1</th>\n",
       "      <td>5</td>\n",
       "      <td>20.400000</td>\n",
       "      <td>50</td>\n",
       "    </tr>\n",
       "    <tr>\n",
       "      <th>2</th>\n",
       "      <td>6</td>\n",
       "      <td>3.141593</td>\n",
       "      <td>-30</td>\n",
       "    </tr>\n",
       "    <tr>\n",
       "      <th>3</th>\n",
       "      <td>7</td>\n",
       "      <td>40.000000</td>\n",
       "      <td>-50</td>\n",
       "    </tr>\n",
       "  </tbody>\n",
       "</table>\n",
       "</div>"
      ],
      "text/plain": [
       "   AAA        BBB  CCC\n",
       "0    4  10.000000  100\n",
       "1    5  20.400000   50\n",
       "2    6   3.141593  -30\n",
       "3    7  40.000000  -50"
      ]
     },
     "execution_count": 16,
     "metadata": {},
     "output_type": "execute_result"
    }
   ],
   "source": [
    "# creating dataframes from dictionaries\n",
    "df = pd.DataFrame(\n",
    "    {\"AAA\": [4, 5, 6, 7], \"BBB\": [10.00, 20.4, math.pi, 40], \"CCC\": [\"100\",\"50\", -30, -50]}\n",
    ")\n",
    "\n",
    "# default int and float type os int64, float 64 resp\n",
    "print(df.dtypes)\n",
    "df"
   ]
  },
  {
   "cell_type": "code",
   "execution_count": 17,
   "metadata": {},
   "outputs": [
    {
     "data": {
      "application/vnd.microsoft.datawrangler.viewer.v0+json": {
       "columns": [
        {
         "name": "index",
         "rawType": "int64",
         "type": "integer"
        },
        {
         "name": "a",
         "rawType": "int64",
         "type": "integer"
        },
        {
         "name": "b",
         "rawType": "int64",
         "type": "integer"
        },
        {
         "name": "c",
         "rawType": "int64",
         "type": "integer"
        }
       ],
       "conversionMethod": "pd.DataFrame",
       "ref": "c5e2916b-e102-42b6-9168-06d25cd3330e",
       "rows": [
        [
         "0",
         "1",
         "2",
         "3"
        ],
        [
         "1",
         "4",
         "5",
         "6"
        ],
        [
         "2",
         "7",
         "8",
         "9"
        ]
       ],
       "shape": {
        "columns": 3,
        "rows": 3
       }
      },
      "text/html": [
       "<div>\n",
       "<style scoped>\n",
       "    .dataframe tbody tr th:only-of-type {\n",
       "        vertical-align: middle;\n",
       "    }\n",
       "\n",
       "    .dataframe tbody tr th {\n",
       "        vertical-align: top;\n",
       "    }\n",
       "\n",
       "    .dataframe thead th {\n",
       "        text-align: right;\n",
       "    }\n",
       "</style>\n",
       "<table border=\"1\" class=\"dataframe\">\n",
       "  <thead>\n",
       "    <tr style=\"text-align: right;\">\n",
       "      <th></th>\n",
       "      <th>a</th>\n",
       "      <th>b</th>\n",
       "      <th>c</th>\n",
       "    </tr>\n",
       "  </thead>\n",
       "  <tbody>\n",
       "    <tr>\n",
       "      <th>0</th>\n",
       "      <td>1</td>\n",
       "      <td>2</td>\n",
       "      <td>3</td>\n",
       "    </tr>\n",
       "    <tr>\n",
       "      <th>1</th>\n",
       "      <td>4</td>\n",
       "      <td>5</td>\n",
       "      <td>6</td>\n",
       "    </tr>\n",
       "    <tr>\n",
       "      <th>2</th>\n",
       "      <td>7</td>\n",
       "      <td>8</td>\n",
       "      <td>9</td>\n",
       "    </tr>\n",
       "  </tbody>\n",
       "</table>\n",
       "</div>"
      ],
      "text/plain": [
       "   a  b  c\n",
       "0  1  2  3\n",
       "1  4  5  6\n",
       "2  7  8  9"
      ]
     },
     "execution_count": 17,
     "metadata": {},
     "output_type": "execute_result"
    }
   ],
   "source": [
    "# constructing DataFrames from np arrays\n",
    "arr = np.array([[1, 2, 3], [4, 5, 6], [7, 8, 9]])\n",
    "df2 = pd.DataFrame(arr, columns=['a', 'b', 'c'])\n",
    "df2"
   ]
  },
  {
   "cell_type": "markdown",
   "metadata": {},
   "source": [
    "## <a id='toc1_2_'></a>[Working with Series](#toc0_)\n",
    "`df.Series` are one-dimensional ndarray with axis labels (including time series). The object supports both integer- and label-based indexing. It can be viewed as a single column of a data frame where \"index\" corresponds to row names."
   ]
  },
  {
   "cell_type": "code",
   "execution_count": 18,
   "metadata": {},
   "outputs": [
    {
     "data": {
      "text/plain": [
       "a    <class 'dict'>\n",
       "b    <class 'dict'>\n",
       "c    <class 'dict'>\n",
       "dtype: object"
      ]
     },
     "execution_count": 18,
     "metadata": {},
     "output_type": "execute_result"
    }
   ],
   "source": [
    "# dictionaries already contain natural indexing due to keys\n",
    "dict1 = {'a': 1, 'b': 2, 'c': 3}\n",
    "dict_series = pd.Series(data=dict, index=['a', 'b', 'c'])\n",
    "dict_series"
   ]
  },
  {
   "cell_type": "code",
   "execution_count": 19,
   "metadata": {},
   "outputs": [
    {
     "data": {
      "text/plain": [
       "0     4\n",
       "1     6\n",
       "2     9\n",
       "3    10\n",
       "dtype: int64"
      ]
     },
     "execution_count": 19,
     "metadata": {},
     "output_type": "execute_result"
    }
   ],
   "source": [
    "# default integer indexing\n",
    "arr = np.array([4,6,9,10])\n",
    "arr_Ser = pd.Series(arr)\n",
    "arr_Ser"
   ]
  },
  {
   "cell_type": "code",
   "execution_count": 20,
   "metadata": {},
   "outputs": [
    {
     "data": {
      "text/plain": [
       "w     4\n",
       "x     6\n",
       "y     9\n",
       "z    10\n",
       "dtype: int64"
      ]
     },
     "execution_count": 20,
     "metadata": {},
     "output_type": "execute_result"
    }
   ],
   "source": [
    "# custom label-based indexing\n",
    "arr = np.array([4,6,9,10])\n",
    "arr_Ser = pd.Series(arr, index = ['w', 'x', 'y', 'z'])\n",
    "arr_Ser"
   ]
  },
  {
   "cell_type": "markdown",
   "metadata": {},
   "source": [
    "## <a id='toc1_3_'></a>[Working with DataFrames](#toc0_)"
   ]
  },
  {
   "cell_type": "markdown",
   "metadata": {},
   "source": [
    "### <a id='toc1_3_1_'></a>[Getting an verview of the `DataFrame`](#toc0_)"
   ]
  },
  {
   "cell_type": "code",
   "execution_count": 21,
   "metadata": {},
   "outputs": [
    {
     "data": {
      "application/vnd.microsoft.datawrangler.viewer.v0+json": {
       "columns": [
        {
         "name": "index",
         "rawType": "int64",
         "type": "integer"
        },
        {
         "name": "name",
         "rawType": "object",
         "type": "string"
        },
        {
         "name": "id",
         "rawType": "int64",
         "type": "integer"
        },
        {
         "name": "nametype",
         "rawType": "object",
         "type": "string"
        },
        {
         "name": "recclass",
         "rawType": "object",
         "type": "string"
        },
        {
         "name": "mass (g)",
         "rawType": "float64",
         "type": "float"
        },
        {
         "name": "fall",
         "rawType": "object",
         "type": "string"
        },
        {
         "name": "year",
         "rawType": "object",
         "type": "unknown"
        },
        {
         "name": "reclat",
         "rawType": "float64",
         "type": "float"
        },
        {
         "name": "reclong",
         "rawType": "float64",
         "type": "float"
        },
        {
         "name": "GeoLocation",
         "rawType": "object",
         "type": "unknown"
        }
       ],
       "conversionMethod": "pd.DataFrame",
       "ref": "b536672c-e810-4254-bb21-15a62c217bda",
       "rows": [
        [
         "0",
         "Aachen",
         "1",
         "Valid",
         "L5",
         "21.0",
         "Fell",
         "01/01/1880 12:00:00 AM",
         "50.775",
         "6.08333",
         "(50.775, 6.08333)"
        ],
        [
         "1",
         "Aarhus",
         "2",
         "Valid",
         "H6",
         "720.0",
         "Fell",
         "01/01/1951 12:00:00 AM",
         "56.18333",
         "10.23333",
         "(56.18333, 10.23333)"
        ],
        [
         "2",
         "Abee",
         "6",
         "Valid",
         "EH4",
         "107000.0",
         "Fell",
         "01/01/1952 12:00:00 AM",
         "54.21667",
         "-113.0",
         "(54.21667, -113.0)"
        ],
        [
         "3",
         "Acapulco",
         "10",
         "Valid",
         "Acapulcoite",
         "1914.0",
         "Fell",
         "01/01/1976 12:00:00 AM",
         "16.88333",
         "-99.9",
         "(16.88333, -99.9)"
        ],
        [
         "4",
         "Achiras",
         "370",
         "Valid",
         "L6",
         "780.0",
         "Fell",
         "01/01/1902 12:00:00 AM",
         "-33.16667",
         "-64.95",
         "(-33.16667, -64.95)"
        ],
        [
         "5",
         "Adhi Kot",
         "379",
         "Valid",
         "EH4",
         "4239.0",
         "Fell",
         "01/01/1919 12:00:00 AM",
         "32.1",
         "71.8",
         "(32.1, 71.8)"
        ],
        [
         "6",
         "Adzhi-Bogdo (stone)",
         "390",
         "Valid",
         "LL3-6",
         "910.0",
         "Fell",
         "01/01/1949 12:00:00 AM",
         "44.83333",
         "95.16667",
         "(44.83333, 95.16667)"
        ],
        [
         "7",
         "Agen",
         "392",
         "Valid",
         "H5",
         "30000.0",
         "Fell",
         "01/01/1814 12:00:00 AM",
         "44.21667",
         "0.61667",
         "(44.21667, 0.61667)"
        ],
        [
         "8",
         "Aguada",
         "398",
         "Valid",
         "L6",
         "1620.0",
         "Fell",
         "01/01/1930 12:00:00 AM",
         "-31.6",
         "-65.23333",
         "(-31.6, -65.23333)"
        ],
        [
         "9",
         "Aguila Blanca",
         "417",
         "Valid",
         "L",
         "1440.0",
         "Fell",
         "01/01/1920 12:00:00 AM",
         "-30.86667",
         "-64.55",
         "(-30.86667, -64.55)"
        ],
        [
         "10",
         "Aioun el Atrouss",
         "423",
         "Valid",
         "Diogenite-pm",
         "1000.0",
         "Fell",
         "01/01/1974 12:00:00 AM",
         "16.39806",
         "-9.57028",
         "(16.39806, -9.57028)"
        ],
        [
         "11",
         "Aïr",
         "424",
         "Valid",
         "L6",
         "24000.0",
         "Fell",
         "01/01/1925 12:00:00 AM",
         "19.08333",
         "8.38333",
         "(19.08333, 8.38333)"
        ],
        [
         "12",
         "Aire-sur-la-Lys",
         "425",
         "Valid",
         "Unknown",
         null,
         "Fell",
         "01/01/1769 12:00:00 AM",
         "50.66667",
         "2.33333",
         "(50.66667, 2.33333)"
        ],
        [
         "13",
         "Akaba",
         "426",
         "Valid",
         "L6",
         "779.0",
         "Fell",
         "01/01/1949 12:00:00 AM",
         "29.51667",
         "35.05",
         "(29.51667, 35.05)"
        ],
        [
         "14",
         "Akbarpur",
         "427",
         "Valid",
         "H4",
         "1800.0",
         "Fell",
         "01/01/1838 12:00:00 AM",
         "29.71667",
         "77.95",
         "(29.71667, 77.95)"
        ],
        [
         "15",
         "Akwanga",
         "432",
         "Valid",
         "H",
         "3000.0",
         "Fell",
         "01/01/1959 12:00:00 AM",
         "8.91667",
         "8.43333",
         "(8.91667, 8.43333)"
        ],
        [
         "16",
         "Akyumak",
         "433",
         "Valid",
         "Iron, IVA",
         "50000.0",
         "Fell",
         "01/01/1981 12:00:00 AM",
         "39.91667",
         "42.81667",
         "(39.91667, 42.81667)"
        ],
        [
         "17",
         "Al Rais",
         "446",
         "Valid",
         "CR2-an",
         "160.0",
         "Fell",
         "01/01/1957 12:00:00 AM",
         "24.41667",
         "39.51667",
         "(24.41667, 39.51667)"
        ],
        [
         "18",
         "Al Zarnkh",
         "447",
         "Valid",
         "LL5",
         "700.0",
         "Fell",
         "01/01/2001 12:00:00 AM",
         "13.66033",
         "28.96",
         "(13.66033, 28.96)"
        ],
        [
         "19",
         "Alais",
         "448",
         "Valid",
         "CI1",
         "6000.0",
         "Fell",
         "01/01/1806 12:00:00 AM",
         "44.11667",
         "4.08333",
         "(44.11667, 4.08333)"
        ],
        [
         "20",
         "Albareto",
         "453",
         "Valid",
         "L/LL4",
         "2000.0",
         "Fell",
         "01/01/1766 12:00:00 AM",
         "44.65",
         "11.01667",
         "(44.65, 11.01667)"
        ],
        [
         "21",
         "Alberta",
         "454",
         "Valid",
         "L",
         "625.0",
         "Fell",
         "01/01/1949 12:00:00 AM",
         "2.0",
         "22.66667",
         "(2.0, 22.66667)"
        ],
        [
         "22",
         "Alby sur Chéran",
         "458",
         "Valid",
         "Eucrite-mmict",
         "252.0",
         "Fell",
         "01/01/2002 12:00:00 AM",
         "45.82133",
         "6.01533",
         "(45.82133, 6.01533)"
        ],
        [
         "23",
         "Aldsworth",
         "461",
         "Valid",
         "LL5",
         "700.0",
         "Fell",
         "01/01/1835 12:00:00 AM",
         "51.78333",
         "-1.78333",
         "(51.78333, -1.78333)"
        ],
        [
         "24",
         "Aleppo",
         "462",
         "Valid",
         "L6",
         "3200.0",
         "Fell",
         "01/01/1873 12:00:00 AM",
         "36.23333",
         "37.13333",
         "(36.23333, 37.13333)"
        ],
        [
         "25",
         "Alessandria",
         "463",
         "Valid",
         "H5",
         "908.0",
         "Fell",
         "01/01/1860 12:00:00 AM",
         "44.88333",
         "8.75",
         "(44.88333, 8.75)"
        ],
        [
         "26",
         "Alexandrovsky",
         "465",
         "Valid",
         "H4",
         "9251.0",
         "Fell",
         "01/01/1900 12:00:00 AM",
         "50.95",
         "31.81667",
         "(50.95, 31.81667)"
        ],
        [
         "27",
         "Alfianello",
         "466",
         "Valid",
         "L6",
         "228000.0",
         "Fell",
         "01/01/1883 12:00:00 AM",
         "45.26667",
         "10.15",
         "(45.26667, 10.15)"
        ],
        [
         "28",
         "Allegan",
         "2276",
         "Valid",
         "H5",
         "32000.0",
         "Fell",
         "01/01/1899 12:00:00 AM",
         "42.53333",
         "-85.88333",
         "(42.53333, -85.88333)"
        ],
        [
         "29",
         "Allende",
         "2278",
         "Valid",
         "CV3",
         "2000000.0",
         "Fell",
         "01/01/1969 12:00:00 AM",
         "26.96667",
         "-105.31667",
         "(26.96667, -105.31667)"
        ],
        [
         "30",
         "Almahata Sitta",
         "48915",
         "Valid",
         "Ureilite-an",
         "3950.0",
         "Fell",
         "01/01/2008 12:00:00 AM",
         "20.74575",
         "32.41275",
         "(20.74575, 32.41275)"
        ],
        [
         "31",
         "Alta'ameem",
         "2284",
         "Valid",
         "LL5",
         "6000.0",
         "Fell",
         "01/01/1977 12:00:00 AM",
         "35.27333",
         "44.21556",
         "(35.27333, 44.21556)"
        ],
        [
         "32",
         "Ambapur Nagla",
         "2290",
         "Valid",
         "H5",
         "6400.0",
         "Fell",
         "01/01/1895 12:00:00 AM",
         "27.66667",
         "78.25",
         "(27.66667, 78.25)"
        ],
        [
         "33",
         "Andhara",
         "2294",
         "Valid",
         "Stone-uncl",
         "2700.0",
         "Fell",
         "01/01/1880 12:00:00 AM",
         "26.58333",
         "85.56667",
         "(26.58333, 85.56667)"
        ],
        [
         "34",
         "Andover",
         "2295",
         "Valid",
         "L6",
         "3200.0",
         "Fell",
         "01/01/1898 12:00:00 AM",
         "44.61667",
         "-70.75",
         "(44.61667, -70.75)"
        ],
        [
         "35",
         "Andreevka",
         "2296",
         "Valid",
         "L3",
         "600.0",
         "Fell",
         "01/01/1969 12:00:00 AM",
         "48.7",
         "37.5",
         "(48.7, 37.5)"
        ],
        [
         "36",
         "Andura",
         "2298",
         "Valid",
         "H6",
         "17900.0",
         "Fell",
         "01/01/1939 12:00:00 AM",
         "20.88333",
         "76.86667",
         "(20.88333, 76.86667)"
        ],
        [
         "37",
         "Northwest Africa 5815",
         "50693",
         "Valid",
         "L5",
         "256.8",
         "Found",
         null,
         "0.0",
         "0.0",
         "(0.0, 0.0)"
        ],
        [
         "38",
         "Angers",
         "2301",
         "Valid",
         "L6",
         null,
         "Fell",
         "01/01/1822 12:00:00 AM",
         "47.46667",
         "-0.55",
         "(47.46667, -0.55)"
        ],
        [
         "39",
         "Angra dos Reis (stone)",
         "2302",
         "Valid",
         "Angrite",
         "1500.0",
         "Fell",
         "01/01/1869 12:00:00 AM",
         "-22.96667",
         "-44.31667",
         "(-22.96667, -44.31667)"
        ],
        [
         "40",
         "Ankober",
         "2304",
         "Valid",
         "H4",
         "6500.0",
         "Fell",
         "01/01/1942 12:00:00 AM",
         "9.53333",
         "39.71667",
         "(9.53333, 39.71667)"
        ],
        [
         "41",
         "Anlong",
         "2305",
         "Valid",
         "H5",
         "2500.0",
         "Fell",
         "01/01/1971 12:00:00 AM",
         "25.15",
         "105.18333",
         "(25.15, 105.18333)"
        ],
        [
         "42",
         "Aomori",
         "2313",
         "Valid",
         "L6",
         "320.0",
         "Fell",
         "01/01/1984 12:00:00 AM",
         "40.81056",
         "140.78556",
         "(40.81056, 140.78556)"
        ],
        [
         "43",
         "Appley Bridge",
         "2318",
         "Valid",
         "LL6",
         "15000.0",
         "Fell",
         "01/01/1914 12:00:00 AM",
         "53.58333",
         "-2.71667",
         "(53.58333, -2.71667)"
        ],
        [
         "44",
         "Apt",
         "2320",
         "Valid",
         "L6",
         "3200.0",
         "Fell",
         "01/01/1803 12:00:00 AM",
         "43.86667",
         "5.38333",
         "(43.86667, 5.38333)"
        ],
        [
         "45",
         "Arbol Solo",
         "2325",
         "Valid",
         "H5",
         "810.0",
         "Fell",
         "01/01/1954 12:00:00 AM",
         "-33.0",
         "-66.0",
         "(-33.0, -66.0)"
        ],
        [
         "46",
         "Archie",
         "2329",
         "Valid",
         "H6",
         "5070.0",
         "Fell",
         "01/01/1932 12:00:00 AM",
         "38.5",
         "-94.3",
         "(38.5, -94.3)"
        ],
        [
         "47",
         "Arroyo Aguiar",
         "2340",
         "Valid",
         "H5",
         "7450.0",
         "Fell",
         "01/01/1950 12:00:00 AM",
         "-31.41667",
         "-60.66667",
         "(-31.41667, -60.66667)"
        ],
        [
         "48",
         "Asco",
         "2345",
         "Valid",
         "H6",
         "41.0",
         "Fell",
         "01/01/1805 12:00:00 AM",
         "42.45",
         "9.03333",
         "(42.45, 9.03333)"
        ],
        [
         "49",
         "Ash Creek",
         "48954",
         "Valid",
         "L6",
         "9500.0",
         "Fell",
         "01/01/2009 12:00:00 AM",
         "31.805",
         "-97.01",
         "(31.805, -97.01)"
        ]
       ],
       "shape": {
        "columns": 10,
        "rows": 45716
       }
      },
      "text/html": [
       "<div>\n",
       "<style scoped>\n",
       "    .dataframe tbody tr th:only-of-type {\n",
       "        vertical-align: middle;\n",
       "    }\n",
       "\n",
       "    .dataframe tbody tr th {\n",
       "        vertical-align: top;\n",
       "    }\n",
       "\n",
       "    .dataframe thead th {\n",
       "        text-align: right;\n",
       "    }\n",
       "</style>\n",
       "<table border=\"1\" class=\"dataframe\">\n",
       "  <thead>\n",
       "    <tr style=\"text-align: right;\">\n",
       "      <th></th>\n",
       "      <th>name</th>\n",
       "      <th>id</th>\n",
       "      <th>nametype</th>\n",
       "      <th>recclass</th>\n",
       "      <th>mass (g)</th>\n",
       "      <th>fall</th>\n",
       "      <th>year</th>\n",
       "      <th>reclat</th>\n",
       "      <th>reclong</th>\n",
       "      <th>GeoLocation</th>\n",
       "    </tr>\n",
       "  </thead>\n",
       "  <tbody>\n",
       "    <tr>\n",
       "      <th>0</th>\n",
       "      <td>Aachen</td>\n",
       "      <td>1</td>\n",
       "      <td>Valid</td>\n",
       "      <td>L5</td>\n",
       "      <td>21.0</td>\n",
       "      <td>Fell</td>\n",
       "      <td>01/01/1880 12:00:00 AM</td>\n",
       "      <td>50.77500</td>\n",
       "      <td>6.08333</td>\n",
       "      <td>(50.775, 6.08333)</td>\n",
       "    </tr>\n",
       "    <tr>\n",
       "      <th>1</th>\n",
       "      <td>Aarhus</td>\n",
       "      <td>2</td>\n",
       "      <td>Valid</td>\n",
       "      <td>H6</td>\n",
       "      <td>720.0</td>\n",
       "      <td>Fell</td>\n",
       "      <td>01/01/1951 12:00:00 AM</td>\n",
       "      <td>56.18333</td>\n",
       "      <td>10.23333</td>\n",
       "      <td>(56.18333, 10.23333)</td>\n",
       "    </tr>\n",
       "    <tr>\n",
       "      <th>2</th>\n",
       "      <td>Abee</td>\n",
       "      <td>6</td>\n",
       "      <td>Valid</td>\n",
       "      <td>EH4</td>\n",
       "      <td>107000.0</td>\n",
       "      <td>Fell</td>\n",
       "      <td>01/01/1952 12:00:00 AM</td>\n",
       "      <td>54.21667</td>\n",
       "      <td>-113.00000</td>\n",
       "      <td>(54.21667, -113.0)</td>\n",
       "    </tr>\n",
       "    <tr>\n",
       "      <th>3</th>\n",
       "      <td>Acapulco</td>\n",
       "      <td>10</td>\n",
       "      <td>Valid</td>\n",
       "      <td>Acapulcoite</td>\n",
       "      <td>1914.0</td>\n",
       "      <td>Fell</td>\n",
       "      <td>01/01/1976 12:00:00 AM</td>\n",
       "      <td>16.88333</td>\n",
       "      <td>-99.90000</td>\n",
       "      <td>(16.88333, -99.9)</td>\n",
       "    </tr>\n",
       "    <tr>\n",
       "      <th>4</th>\n",
       "      <td>Achiras</td>\n",
       "      <td>370</td>\n",
       "      <td>Valid</td>\n",
       "      <td>L6</td>\n",
       "      <td>780.0</td>\n",
       "      <td>Fell</td>\n",
       "      <td>01/01/1902 12:00:00 AM</td>\n",
       "      <td>-33.16667</td>\n",
       "      <td>-64.95000</td>\n",
       "      <td>(-33.16667, -64.95)</td>\n",
       "    </tr>\n",
       "    <tr>\n",
       "      <th>...</th>\n",
       "      <td>...</td>\n",
       "      <td>...</td>\n",
       "      <td>...</td>\n",
       "      <td>...</td>\n",
       "      <td>...</td>\n",
       "      <td>...</td>\n",
       "      <td>...</td>\n",
       "      <td>...</td>\n",
       "      <td>...</td>\n",
       "      <td>...</td>\n",
       "    </tr>\n",
       "    <tr>\n",
       "      <th>45711</th>\n",
       "      <td>Zillah 002</td>\n",
       "      <td>31356</td>\n",
       "      <td>Valid</td>\n",
       "      <td>Eucrite</td>\n",
       "      <td>172.0</td>\n",
       "      <td>Found</td>\n",
       "      <td>01/01/1990 12:00:00 AM</td>\n",
       "      <td>29.03700</td>\n",
       "      <td>17.01850</td>\n",
       "      <td>(29.037, 17.0185)</td>\n",
       "    </tr>\n",
       "    <tr>\n",
       "      <th>45712</th>\n",
       "      <td>Zinder</td>\n",
       "      <td>30409</td>\n",
       "      <td>Valid</td>\n",
       "      <td>Pallasite, ungrouped</td>\n",
       "      <td>46.0</td>\n",
       "      <td>Found</td>\n",
       "      <td>01/01/1999 12:00:00 AM</td>\n",
       "      <td>13.78333</td>\n",
       "      <td>8.96667</td>\n",
       "      <td>(13.78333, 8.96667)</td>\n",
       "    </tr>\n",
       "    <tr>\n",
       "      <th>45713</th>\n",
       "      <td>Zlin</td>\n",
       "      <td>30410</td>\n",
       "      <td>Valid</td>\n",
       "      <td>H4</td>\n",
       "      <td>3.3</td>\n",
       "      <td>Found</td>\n",
       "      <td>01/01/1939 12:00:00 AM</td>\n",
       "      <td>49.25000</td>\n",
       "      <td>17.66667</td>\n",
       "      <td>(49.25, 17.66667)</td>\n",
       "    </tr>\n",
       "    <tr>\n",
       "      <th>45714</th>\n",
       "      <td>Zubkovsky</td>\n",
       "      <td>31357</td>\n",
       "      <td>Valid</td>\n",
       "      <td>L6</td>\n",
       "      <td>2167.0</td>\n",
       "      <td>Found</td>\n",
       "      <td>01/01/2003 12:00:00 AM</td>\n",
       "      <td>49.78917</td>\n",
       "      <td>41.50460</td>\n",
       "      <td>(49.78917, 41.5046)</td>\n",
       "    </tr>\n",
       "    <tr>\n",
       "      <th>45715</th>\n",
       "      <td>Zulu Queen</td>\n",
       "      <td>30414</td>\n",
       "      <td>Valid</td>\n",
       "      <td>L3.7</td>\n",
       "      <td>200.0</td>\n",
       "      <td>Found</td>\n",
       "      <td>01/01/1976 12:00:00 AM</td>\n",
       "      <td>33.98333</td>\n",
       "      <td>-115.68333</td>\n",
       "      <td>(33.98333, -115.68333)</td>\n",
       "    </tr>\n",
       "  </tbody>\n",
       "</table>\n",
       "<p>45716 rows × 10 columns</p>\n",
       "</div>"
      ],
      "text/plain": [
       "             name     id nametype              recclass  mass (g)   fall  \\\n",
       "0          Aachen      1    Valid                    L5      21.0   Fell   \n",
       "1          Aarhus      2    Valid                    H6     720.0   Fell   \n",
       "2            Abee      6    Valid                   EH4  107000.0   Fell   \n",
       "3        Acapulco     10    Valid           Acapulcoite    1914.0   Fell   \n",
       "4         Achiras    370    Valid                    L6     780.0   Fell   \n",
       "...           ...    ...      ...                   ...       ...    ...   \n",
       "45711  Zillah 002  31356    Valid               Eucrite     172.0  Found   \n",
       "45712      Zinder  30409    Valid  Pallasite, ungrouped      46.0  Found   \n",
       "45713        Zlin  30410    Valid                    H4       3.3  Found   \n",
       "45714   Zubkovsky  31357    Valid                    L6    2167.0  Found   \n",
       "45715  Zulu Queen  30414    Valid                  L3.7     200.0  Found   \n",
       "\n",
       "                         year    reclat    reclong             GeoLocation  \n",
       "0      01/01/1880 12:00:00 AM  50.77500    6.08333       (50.775, 6.08333)  \n",
       "1      01/01/1951 12:00:00 AM  56.18333   10.23333    (56.18333, 10.23333)  \n",
       "2      01/01/1952 12:00:00 AM  54.21667 -113.00000      (54.21667, -113.0)  \n",
       "3      01/01/1976 12:00:00 AM  16.88333  -99.90000       (16.88333, -99.9)  \n",
       "4      01/01/1902 12:00:00 AM -33.16667  -64.95000     (-33.16667, -64.95)  \n",
       "...                       ...       ...        ...                     ...  \n",
       "45711  01/01/1990 12:00:00 AM  29.03700   17.01850       (29.037, 17.0185)  \n",
       "45712  01/01/1999 12:00:00 AM  13.78333    8.96667     (13.78333, 8.96667)  \n",
       "45713  01/01/1939 12:00:00 AM  49.25000   17.66667       (49.25, 17.66667)  \n",
       "45714  01/01/2003 12:00:00 AM  49.78917   41.50460     (49.78917, 41.5046)  \n",
       "45715  01/01/1976 12:00:00 AM  33.98333 -115.68333  (33.98333, -115.68333)  \n",
       "\n",
       "[45716 rows x 10 columns]"
      ]
     },
     "execution_count": 21,
     "metadata": {},
     "output_type": "execute_result"
    }
   ],
   "source": [
    "mets = pd.read_csv('./data/Meteorite_Landings.csv')\n",
    "mets"
   ]
  },
  {
   "cell_type": "code",
   "execution_count": null,
   "metadata": {},
   "outputs": [
    {
     "name": "stdout",
     "output_type": "stream",
     "text": [
      "['GeoLocation', 'T', '_AXIS_LEN', '_AXIS_ORDERS', '_AXIS_TO_AXIS_NUMBER', '_HANDLED_TYPES', '__abs__', '__add__', '__and__', '__annotations__', '__array__', '__array_priority__', '__array_ufunc__', '__arrow_c_stream__', '__bool__', '__class__', '__contains__', '__copy__', '__dataframe__', '__dataframe_consortium_standard__', '__deepcopy__', '__delattr__', '__delitem__', '__dict__', '__dir__', '__divmod__', '__doc__', '__eq__', '__finalize__', '__floordiv__', '__format__', '__ge__', '__getattr__', '__getattribute__', '__getitem__', '__getstate__', '__gt__', '__hash__', '__iadd__', '__iand__', '__ifloordiv__', '__imod__', '__imul__', '__init__', '__init_subclass__', '__invert__', '__ior__', '__ipow__', '__isub__', '__iter__', '__itruediv__', '__ixor__', '__le__', '__len__', '__lt__', '__matmul__', '__mod__', '__module__', '__mul__', '__ne__', '__neg__', '__new__', '__nonzero__', '__or__', '__pandas_priority__', '__pos__', '__pow__', '__radd__', '__rand__', '__rdivmod__', '__reduce__', '__reduce_ex__', '__repr__', '__rfloordiv__', '__rmatmul__', '__rmod__', '__rmul__', '__ror__', '__round__', '__rpow__', '__rsub__', '__rtruediv__', '__rxor__', '__setattr__', '__setitem__', '__setstate__', '__sizeof__', '__str__', '__sub__', '__subclasshook__', '__truediv__', '__weakref__', '__xor__', '_accessors', '_accum_func', '_agg_examples_doc', '_agg_see_also_doc', '_align_for_op', '_align_frame', '_align_series', '_append', '_arith_method', '_arith_method_with_reindex', '_as_manager', '_attrs', '_box_col_values', '_can_fast_transpose', '_check_inplace_and_allows_duplicate_labels', '_check_is_chained_assignment_possible', '_check_label_or_level_ambiguity', '_check_setitem_copy', '_clear_item_cache', '_clip_with_one_bound', '_clip_with_scalar', '_cmp_method', '_combine_frame', '_consolidate', '_consolidate_inplace', '_construct_axes_dict', '_construct_result', '_constructor', '_constructor_from_mgr', '_constructor_sliced', '_constructor_sliced_from_mgr', '_create_data_for_split_and_tight_to_dict', '_data', '_deprecate_downcast', '_dir_additions', '_dir_deletions', '_dispatch_frame_op', '_drop_axis', '_drop_labels_or_levels', '_ensure_valid_index', '_find_valid_index', '_flags', '_flex_arith_method', '_flex_cmp_method', '_from_arrays', '_from_mgr', '_get_agg_axis', '_get_axis', '_get_axis_name', '_get_axis_number', '_get_axis_resolvers', '_get_block_manager_axis', '_get_bool_data', '_get_cleaned_column_resolvers', '_get_column_array', '_get_index_resolvers', '_get_item_cache', '_get_label_or_level_values', '_get_numeric_data', '_get_value', '_get_values_for_csv', '_getitem_bool_array', '_getitem_multilevel', '_getitem_nocopy', '_getitem_slice', '_gotitem', '_hidden_attrs', '_indexed_same', '_info_axis', '_info_axis_name', '_info_axis_number', '_info_repr', '_init_mgr', '_inplace_method', '_internal_names', '_internal_names_set', '_is_copy', '_is_homogeneous_type', '_is_label_or_level_reference', '_is_label_reference', '_is_level_reference', '_is_mixed_type', '_is_view', '_is_view_after_cow_rules', '_iset_item', '_iset_item_mgr', '_iset_not_inplace', '_item_cache', '_iter_column_arrays', '_ixs', '_logical_func', '_logical_method', '_maybe_align_series_as_frame', '_maybe_cache_changed', '_maybe_update_cacher', '_metadata', '_mgr', '_min_count_stat_function', '_needs_reindex_multi', '_pad_or_backfill', '_protect_consolidate', '_reduce', '_reduce_axis1', '_reindex_axes', '_reindex_multi', '_reindex_with_indexers', '_rename', '_replace_columnwise', '_repr_data_resource_', '_repr_fits_horizontal_', '_repr_fits_vertical_', '_repr_html_', '_repr_latex_', '_reset_cache', '_reset_cacher', '_sanitize_column', '_series', '_set_axis', '_set_axis_name', '_set_axis_nocheck', '_set_is_copy', '_set_item', '_set_item_frame_value', '_set_item_mgr', '_set_value', '_setitem_array', '_setitem_frame', '_setitem_slice', '_shift_with_freq', '_should_reindex_frame_op', '_slice', '_stat_function', '_stat_function_ddof', '_take_with_is_copy', '_to_dict_of_blocks', '_to_latex_via_styler', '_typ', '_update_inplace', '_validate_dtype', '_values', '_where', 'abs', 'add', 'add_prefix', 'add_suffix', 'agg', 'aggregate', 'align', 'all', 'any', 'apply', 'applymap', 'asfreq', 'asof', 'assign', 'astype', 'at', 'at_time', 'attrs', 'axes', 'backfill', 'between_time', 'bfill', 'bool', 'boxplot', 'clip', 'columns', 'combine', 'combine_first', 'compare', 'convert_dtypes', 'copy', 'corr', 'corrwith', 'count', 'cov', 'cummax', 'cummin', 'cumprod', 'cumsum', 'describe', 'diff', 'div', 'divide', 'dot', 'drop', 'drop_duplicates', 'droplevel', 'dropna', 'dtypes', 'duplicated', 'empty', 'eq', 'equals', 'eval', 'ewm', 'expanding', 'explode', 'fall', 'ffill', 'fillna', 'filter', 'first', 'first_valid_index', 'flags', 'floordiv', 'from_dict', 'from_records', 'ge', 'get', 'groupby', 'gt', 'head', 'hist', 'iat', 'id', 'idxmax', 'idxmin', 'iloc', 'index', 'infer_objects', 'info', 'insert', 'interpolate', 'isetitem', 'isin', 'isna', 'isnull', 'items', 'iterrows', 'itertuples', 'join', 'keys', 'kurt', 'kurtosis', 'last', 'last_valid_index', 'le', 'loc', 'lt', 'map', 'mask', 'max', 'mean', 'median', 'melt', 'memory_usage', 'merge', 'min', 'mod', 'mode', 'mul', 'multiply', 'name', 'nametype', 'ndim', 'ne', 'nlargest', 'notna', 'notnull', 'nsmallest', 'nunique', 'pad', 'pct_change', 'pipe', 'pivot', 'pivot_table', 'plot', 'pop', 'pow', 'prod', 'product', 'quantile', 'query', 'radd', 'rank', 'rdiv', 'recclass', 'reclat', 'reclong', 'reindex', 'reindex_like', 'rename', 'rename_axis', 'reorder_levels', 'replace', 'resample', 'reset_index', 'rfloordiv', 'rmod', 'rmul', 'rolling', 'round', 'rpow', 'rsub', 'rtruediv', 'sample', 'select_dtypes', 'sem', 'set_axis', 'set_flags', 'set_index', 'shape', 'shift', 'size', 'skew', 'sort_index', 'sort_values', 'squeeze', 'stack', 'std', 'style', 'sub', 'subtract', 'sum', 'swapaxes', 'swaplevel', 'tail', 'take', 'to_clipboard', 'to_csv', 'to_dict', 'to_excel', 'to_feather', 'to_gbq', 'to_hdf', 'to_html', 'to_json', 'to_latex', 'to_markdown', 'to_numpy', 'to_orc', 'to_parquet', 'to_period', 'to_pickle', 'to_records', 'to_sql', 'to_stata', 'to_string', 'to_timestamp', 'to_xarray', 'to_xml', 'transform', 'transpose', 'truediv', 'truncate', 'tz_convert', 'tz_localize', 'unstack', 'update', 'value_counts', 'values', 'var', 'where', 'xs', 'year']\n"
     ]
    }
   ],
   "source": [
    "print(dir(mets)) "
   ]
  },
  {
   "cell_type": "code",
   "execution_count": 23,
   "metadata": {},
   "outputs": [
    {
     "data": {
      "application/vnd.microsoft.datawrangler.viewer.v0+json": {
       "columns": [
        {
         "name": "index",
         "rawType": "object",
         "type": "string"
        },
        {
         "name": "0",
         "rawType": "object",
         "type": "unknown"
        },
        {
         "name": "1",
         "rawType": "object",
         "type": "unknown"
        },
        {
         "name": "2",
         "rawType": "object",
         "type": "unknown"
        },
        {
         "name": "3",
         "rawType": "object",
         "type": "unknown"
        },
        {
         "name": "4",
         "rawType": "object",
         "type": "unknown"
        }
       ],
       "conversionMethod": "pd.DataFrame",
       "ref": "5583b864-9298-4c61-885d-6c5799b22ff7",
       "rows": [
        [
         "name",
         "Aachen",
         "Aarhus",
         "Abee",
         "Acapulco",
         "Achiras"
        ],
        [
         "id",
         "1",
         "2",
         "6",
         "10",
         "370"
        ],
        [
         "nametype",
         "Valid",
         "Valid",
         "Valid",
         "Valid",
         "Valid"
        ],
        [
         "recclass",
         "L5",
         "H6",
         "EH4",
         "Acapulcoite",
         "L6"
        ],
        [
         "mass (g)",
         "21.0",
         "720.0",
         "107000.0",
         "1914.0",
         "780.0"
        ],
        [
         "fall",
         "Fell",
         "Fell",
         "Fell",
         "Fell",
         "Fell"
        ],
        [
         "year",
         "01/01/1880 12:00:00 AM",
         "01/01/1951 12:00:00 AM",
         "01/01/1952 12:00:00 AM",
         "01/01/1976 12:00:00 AM",
         "01/01/1902 12:00:00 AM"
        ],
        [
         "reclat",
         "50.775",
         "56.18333",
         "54.21667",
         "16.88333",
         "-33.16667"
        ],
        [
         "reclong",
         "6.08333",
         "10.23333",
         "-113.0",
         "-99.9",
         "-64.95"
        ],
        [
         "GeoLocation",
         "(50.775, 6.08333)",
         "(56.18333, 10.23333)",
         "(54.21667, -113.0)",
         "(16.88333, -99.9)",
         "(-33.16667, -64.95)"
        ]
       ],
       "shape": {
        "columns": 5,
        "rows": 10
       }
      },
      "text/html": [
       "<div>\n",
       "<style scoped>\n",
       "    .dataframe tbody tr th:only-of-type {\n",
       "        vertical-align: middle;\n",
       "    }\n",
       "\n",
       "    .dataframe tbody tr th {\n",
       "        vertical-align: top;\n",
       "    }\n",
       "\n",
       "    .dataframe thead th {\n",
       "        text-align: right;\n",
       "    }\n",
       "</style>\n",
       "<table border=\"1\" class=\"dataframe\">\n",
       "  <thead>\n",
       "    <tr style=\"text-align: right;\">\n",
       "      <th></th>\n",
       "      <th>0</th>\n",
       "      <th>1</th>\n",
       "      <th>2</th>\n",
       "      <th>3</th>\n",
       "      <th>4</th>\n",
       "    </tr>\n",
       "  </thead>\n",
       "  <tbody>\n",
       "    <tr>\n",
       "      <th>name</th>\n",
       "      <td>Aachen</td>\n",
       "      <td>Aarhus</td>\n",
       "      <td>Abee</td>\n",
       "      <td>Acapulco</td>\n",
       "      <td>Achiras</td>\n",
       "    </tr>\n",
       "    <tr>\n",
       "      <th>id</th>\n",
       "      <td>1</td>\n",
       "      <td>2</td>\n",
       "      <td>6</td>\n",
       "      <td>10</td>\n",
       "      <td>370</td>\n",
       "    </tr>\n",
       "    <tr>\n",
       "      <th>nametype</th>\n",
       "      <td>Valid</td>\n",
       "      <td>Valid</td>\n",
       "      <td>Valid</td>\n",
       "      <td>Valid</td>\n",
       "      <td>Valid</td>\n",
       "    </tr>\n",
       "    <tr>\n",
       "      <th>recclass</th>\n",
       "      <td>L5</td>\n",
       "      <td>H6</td>\n",
       "      <td>EH4</td>\n",
       "      <td>Acapulcoite</td>\n",
       "      <td>L6</td>\n",
       "    </tr>\n",
       "    <tr>\n",
       "      <th>mass (g)</th>\n",
       "      <td>21.0</td>\n",
       "      <td>720.0</td>\n",
       "      <td>107000.0</td>\n",
       "      <td>1914.0</td>\n",
       "      <td>780.0</td>\n",
       "    </tr>\n",
       "    <tr>\n",
       "      <th>fall</th>\n",
       "      <td>Fell</td>\n",
       "      <td>Fell</td>\n",
       "      <td>Fell</td>\n",
       "      <td>Fell</td>\n",
       "      <td>Fell</td>\n",
       "    </tr>\n",
       "    <tr>\n",
       "      <th>year</th>\n",
       "      <td>01/01/1880 12:00:00 AM</td>\n",
       "      <td>01/01/1951 12:00:00 AM</td>\n",
       "      <td>01/01/1952 12:00:00 AM</td>\n",
       "      <td>01/01/1976 12:00:00 AM</td>\n",
       "      <td>01/01/1902 12:00:00 AM</td>\n",
       "    </tr>\n",
       "    <tr>\n",
       "      <th>reclat</th>\n",
       "      <td>50.775</td>\n",
       "      <td>56.18333</td>\n",
       "      <td>54.21667</td>\n",
       "      <td>16.88333</td>\n",
       "      <td>-33.16667</td>\n",
       "    </tr>\n",
       "    <tr>\n",
       "      <th>reclong</th>\n",
       "      <td>6.08333</td>\n",
       "      <td>10.23333</td>\n",
       "      <td>-113.0</td>\n",
       "      <td>-99.9</td>\n",
       "      <td>-64.95</td>\n",
       "    </tr>\n",
       "    <tr>\n",
       "      <th>GeoLocation</th>\n",
       "      <td>(50.775, 6.08333)</td>\n",
       "      <td>(56.18333, 10.23333)</td>\n",
       "      <td>(54.21667, -113.0)</td>\n",
       "      <td>(16.88333, -99.9)</td>\n",
       "      <td>(-33.16667, -64.95)</td>\n",
       "    </tr>\n",
       "  </tbody>\n",
       "</table>\n",
       "</div>"
      ],
      "text/plain": [
       "                                  0                       1  \\\n",
       "name                         Aachen                  Aarhus   \n",
       "id                                1                       2   \n",
       "nametype                      Valid                   Valid   \n",
       "recclass                         L5                      H6   \n",
       "mass (g)                       21.0                   720.0   \n",
       "fall                           Fell                    Fell   \n",
       "year         01/01/1880 12:00:00 AM  01/01/1951 12:00:00 AM   \n",
       "reclat                       50.775                56.18333   \n",
       "reclong                     6.08333                10.23333   \n",
       "GeoLocation       (50.775, 6.08333)    (56.18333, 10.23333)   \n",
       "\n",
       "                                  2                       3  \\\n",
       "name                           Abee                Acapulco   \n",
       "id                                6                      10   \n",
       "nametype                      Valid                   Valid   \n",
       "recclass                        EH4             Acapulcoite   \n",
       "mass (g)                   107000.0                  1914.0   \n",
       "fall                           Fell                    Fell   \n",
       "year         01/01/1952 12:00:00 AM  01/01/1976 12:00:00 AM   \n",
       "reclat                     54.21667                16.88333   \n",
       "reclong                      -113.0                   -99.9   \n",
       "GeoLocation      (54.21667, -113.0)       (16.88333, -99.9)   \n",
       "\n",
       "                                  4  \n",
       "name                        Achiras  \n",
       "id                              370  \n",
       "nametype                      Valid  \n",
       "recclass                         L6  \n",
       "mass (g)                      780.0  \n",
       "fall                           Fell  \n",
       "year         01/01/1902 12:00:00 AM  \n",
       "reclat                    -33.16667  \n",
       "reclong                      -64.95  \n",
       "GeoLocation     (-33.16667, -64.95)  "
      ]
     },
     "execution_count": 23,
     "metadata": {},
     "output_type": "execute_result"
    }
   ],
   "source": [
    "# takes the transpose of the dataframe\n",
    "mets.head().T"
   ]
  },
  {
   "cell_type": "code",
   "execution_count": 24,
   "metadata": {},
   "outputs": [
    {
     "name": "stdout",
     "output_type": "stream",
     "text": [
      "head: \n",
      "        name   id nametype     recclass  mass (g)  fall  \\\n",
      "0    Aachen    1    Valid           L5      21.0  Fell   \n",
      "1    Aarhus    2    Valid           H6     720.0  Fell   \n",
      "2      Abee    6    Valid          EH4  107000.0  Fell   \n",
      "3  Acapulco   10    Valid  Acapulcoite    1914.0  Fell   \n",
      "4   Achiras  370    Valid           L6     780.0  Fell   \n",
      "\n",
      "                     year    reclat    reclong           GeoLocation  \n",
      "0  01/01/1880 12:00:00 AM  50.77500    6.08333     (50.775, 6.08333)  \n",
      "1  01/01/1951 12:00:00 AM  56.18333   10.23333  (56.18333, 10.23333)  \n",
      "2  01/01/1952 12:00:00 AM  54.21667 -113.00000    (54.21667, -113.0)  \n",
      "3  01/01/1976 12:00:00 AM  16.88333  -99.90000     (16.88333, -99.9)  \n",
      "4  01/01/1902 12:00:00 AM -33.16667  -64.95000   (-33.16667, -64.95)   \n",
      "\n",
      "tail: \n",
      "              name     id nametype              recclass  mass (g)   fall  \\\n",
      "45711  Zillah 002  31356    Valid               Eucrite     172.0  Found   \n",
      "45712      Zinder  30409    Valid  Pallasite, ungrouped      46.0  Found   \n",
      "45713        Zlin  30410    Valid                    H4       3.3  Found   \n",
      "45714   Zubkovsky  31357    Valid                    L6    2167.0  Found   \n",
      "45715  Zulu Queen  30414    Valid                  L3.7     200.0  Found   \n",
      "\n",
      "                         year    reclat    reclong             GeoLocation  \n",
      "45711  01/01/1990 12:00:00 AM  29.03700   17.01850       (29.037, 17.0185)  \n",
      "45712  01/01/1999 12:00:00 AM  13.78333    8.96667     (13.78333, 8.96667)  \n",
      "45713  01/01/1939 12:00:00 AM  49.25000   17.66667       (49.25, 17.66667)  \n",
      "45714  01/01/2003 12:00:00 AM  49.78917   41.50460     (49.78917, 41.5046)  \n",
      "45715  01/01/1976 12:00:00 AM  33.98333 -115.68333  (33.98333, -115.68333)   \n",
      "\n",
      "<class 'pandas.core.frame.DataFrame'>\n",
      "RangeIndex: 45716 entries, 0 to 45715\n",
      "Data columns (total 10 columns):\n",
      " #   Column       Non-Null Count  Dtype  \n",
      "---  ------       --------------  -----  \n",
      " 0   name         45716 non-null  object \n",
      " 1   id           45716 non-null  int64  \n",
      " 2   nametype     45716 non-null  object \n",
      " 3   recclass     45716 non-null  object \n",
      " 4   mass (g)     45585 non-null  float64\n",
      " 5   fall         45716 non-null  object \n",
      " 6   year         45425 non-null  object \n",
      " 7   reclat       38401 non-null  float64\n",
      " 8   reclong      38401 non-null  float64\n",
      " 9   GeoLocation  38401 non-null  object \n",
      "dtypes: float64(3), int64(1), object(6)\n",
      "memory usage: 3.5+ MB\n",
      "info or structure: \n",
      " None\n"
     ]
    }
   ],
   "source": [
    "# following are analogous to R's head(), tail() and str()\n",
    "print(f\"head: \\n {mets.head()} \\n\")\n",
    "print(f\"tail: \\n {mets.tail()} \\n\")\n",
    "print(f\"info or structure: \\n {mets.info()}\")"
   ]
  },
  {
   "cell_type": "code",
   "execution_count": 25,
   "metadata": {},
   "outputs": [
    {
     "name": "stdout",
     "output_type": "stream",
     "text": [
      "(45716, 10)\n",
      "num. of rows: RangeIndex(start=0, stop=45716, step=1)\n"
     ]
    }
   ],
   "source": [
    "# dimension of dataframe\n",
    "print(mets.shape)\n",
    "\n",
    "# number of rows in the dataframe\n",
    "print(f\"num. of rows: {mets.index}\")"
   ]
  },
  {
   "cell_type": "markdown",
   "metadata": {},
   "source": [
    "### <a id='toc1_3_2_'></a>[Accessing rows and columns (OR) Subsetting data frames](#toc0_)\n",
    "\n",
    "1. Accessing column(s) by their names.\n",
    "2. Accessing rows/columns using  row/column numbers. \n",
    "3. Using `.loc` or `.iloc` properties of a `DataFrame`"
   ]
  },
  {
   "cell_type": "code",
   "execution_count": 26,
   "metadata": {},
   "outputs": [
    {
     "data": {
      "text/plain": [
       "0        50.77500\n",
       "1        56.18333\n",
       "2        54.21667\n",
       "3        16.88333\n",
       "4       -33.16667\n",
       "           ...   \n",
       "45711    29.03700\n",
       "45712    13.78333\n",
       "45713    49.25000\n",
       "45714    49.78917\n",
       "45715    33.98333\n",
       "Name: reclat, Length: 45716, dtype: float64"
      ]
     },
     "execution_count": 26,
     "metadata": {},
     "output_type": "execute_result"
    }
   ],
   "source": [
    "## accessing individual columns using column names\n",
    "mets.nametype\n",
    "mets.reclat"
   ]
  },
  {
   "cell_type": "code",
   "execution_count": 27,
   "metadata": {},
   "outputs": [
    {
     "data": {
      "application/vnd.microsoft.datawrangler.viewer.v0+json": {
       "columns": [
        {
         "name": "index",
         "rawType": "int64",
         "type": "integer"
        },
        {
         "name": "reclat",
         "rawType": "float64",
         "type": "float"
        },
        {
         "name": "mass (g)",
         "rawType": "float64",
         "type": "float"
        }
       ],
       "conversionMethod": "pd.DataFrame",
       "ref": "6159a066-c264-409b-b752-a6725f184f95",
       "rows": [
        [
         "0",
         "50.775",
         "21.0"
        ],
        [
         "1",
         "56.18333",
         "720.0"
        ],
        [
         "2",
         "54.21667",
         "107000.0"
        ],
        [
         "3",
         "16.88333",
         "1914.0"
        ],
        [
         "4",
         "-33.16667",
         "780.0"
        ],
        [
         "5",
         "32.1",
         "4239.0"
        ],
        [
         "6",
         "44.83333",
         "910.0"
        ],
        [
         "7",
         "44.21667",
         "30000.0"
        ],
        [
         "8",
         "-31.6",
         "1620.0"
        ],
        [
         "9",
         "-30.86667",
         "1440.0"
        ],
        [
         "10",
         "16.39806",
         "1000.0"
        ],
        [
         "11",
         "19.08333",
         "24000.0"
        ],
        [
         "12",
         "50.66667",
         null
        ],
        [
         "13",
         "29.51667",
         "779.0"
        ],
        [
         "14",
         "29.71667",
         "1800.0"
        ],
        [
         "15",
         "8.91667",
         "3000.0"
        ],
        [
         "16",
         "39.91667",
         "50000.0"
        ],
        [
         "17",
         "24.41667",
         "160.0"
        ],
        [
         "18",
         "13.66033",
         "700.0"
        ],
        [
         "19",
         "44.11667",
         "6000.0"
        ],
        [
         "20",
         "44.65",
         "2000.0"
        ],
        [
         "21",
         "2.0",
         "625.0"
        ],
        [
         "22",
         "45.82133",
         "252.0"
        ],
        [
         "23",
         "51.78333",
         "700.0"
        ],
        [
         "24",
         "36.23333",
         "3200.0"
        ],
        [
         "25",
         "44.88333",
         "908.0"
        ],
        [
         "26",
         "50.95",
         "9251.0"
        ],
        [
         "27",
         "45.26667",
         "228000.0"
        ],
        [
         "28",
         "42.53333",
         "32000.0"
        ],
        [
         "29",
         "26.96667",
         "2000000.0"
        ],
        [
         "30",
         "20.74575",
         "3950.0"
        ],
        [
         "31",
         "35.27333",
         "6000.0"
        ],
        [
         "32",
         "27.66667",
         "6400.0"
        ],
        [
         "33",
         "26.58333",
         "2700.0"
        ],
        [
         "34",
         "44.61667",
         "3200.0"
        ],
        [
         "35",
         "48.7",
         "600.0"
        ],
        [
         "36",
         "20.88333",
         "17900.0"
        ],
        [
         "37",
         "0.0",
         "256.8"
        ],
        [
         "38",
         "47.46667",
         null
        ],
        [
         "39",
         "-22.96667",
         "1500.0"
        ],
        [
         "40",
         "9.53333",
         "6500.0"
        ],
        [
         "41",
         "25.15",
         "2500.0"
        ],
        [
         "42",
         "40.81056",
         "320.0"
        ],
        [
         "43",
         "53.58333",
         "15000.0"
        ],
        [
         "44",
         "43.86667",
         "3200.0"
        ],
        [
         "45",
         "-33.0",
         "810.0"
        ],
        [
         "46",
         "38.5",
         "5070.0"
        ],
        [
         "47",
         "-31.41667",
         "7450.0"
        ],
        [
         "48",
         "42.45",
         "41.0"
        ],
        [
         "49",
         "31.805",
         "9500.0"
        ]
       ],
       "shape": {
        "columns": 2,
        "rows": 45716
       }
      },
      "text/html": [
       "<div>\n",
       "<style scoped>\n",
       "    .dataframe tbody tr th:only-of-type {\n",
       "        vertical-align: middle;\n",
       "    }\n",
       "\n",
       "    .dataframe tbody tr th {\n",
       "        vertical-align: top;\n",
       "    }\n",
       "\n",
       "    .dataframe thead th {\n",
       "        text-align: right;\n",
       "    }\n",
       "</style>\n",
       "<table border=\"1\" class=\"dataframe\">\n",
       "  <thead>\n",
       "    <tr style=\"text-align: right;\">\n",
       "      <th></th>\n",
       "      <th>reclat</th>\n",
       "      <th>mass (g)</th>\n",
       "    </tr>\n",
       "  </thead>\n",
       "  <tbody>\n",
       "    <tr>\n",
       "      <th>0</th>\n",
       "      <td>50.77500</td>\n",
       "      <td>21.0</td>\n",
       "    </tr>\n",
       "    <tr>\n",
       "      <th>1</th>\n",
       "      <td>56.18333</td>\n",
       "      <td>720.0</td>\n",
       "    </tr>\n",
       "    <tr>\n",
       "      <th>2</th>\n",
       "      <td>54.21667</td>\n",
       "      <td>107000.0</td>\n",
       "    </tr>\n",
       "    <tr>\n",
       "      <th>3</th>\n",
       "      <td>16.88333</td>\n",
       "      <td>1914.0</td>\n",
       "    </tr>\n",
       "    <tr>\n",
       "      <th>4</th>\n",
       "      <td>-33.16667</td>\n",
       "      <td>780.0</td>\n",
       "    </tr>\n",
       "    <tr>\n",
       "      <th>...</th>\n",
       "      <td>...</td>\n",
       "      <td>...</td>\n",
       "    </tr>\n",
       "    <tr>\n",
       "      <th>45711</th>\n",
       "      <td>29.03700</td>\n",
       "      <td>172.0</td>\n",
       "    </tr>\n",
       "    <tr>\n",
       "      <th>45712</th>\n",
       "      <td>13.78333</td>\n",
       "      <td>46.0</td>\n",
       "    </tr>\n",
       "    <tr>\n",
       "      <th>45713</th>\n",
       "      <td>49.25000</td>\n",
       "      <td>3.3</td>\n",
       "    </tr>\n",
       "    <tr>\n",
       "      <th>45714</th>\n",
       "      <td>49.78917</td>\n",
       "      <td>2167.0</td>\n",
       "    </tr>\n",
       "    <tr>\n",
       "      <th>45715</th>\n",
       "      <td>33.98333</td>\n",
       "      <td>200.0</td>\n",
       "    </tr>\n",
       "  </tbody>\n",
       "</table>\n",
       "<p>45716 rows × 2 columns</p>\n",
       "</div>"
      ],
      "text/plain": [
       "         reclat  mass (g)\n",
       "0      50.77500      21.0\n",
       "1      56.18333     720.0\n",
       "2      54.21667  107000.0\n",
       "3      16.88333    1914.0\n",
       "4     -33.16667     780.0\n",
       "...         ...       ...\n",
       "45711  29.03700     172.0\n",
       "45712  13.78333      46.0\n",
       "45713  49.25000       3.3\n",
       "45714  49.78917    2167.0\n",
       "45715  33.98333     200.0\n",
       "\n",
       "[45716 rows x 2 columns]"
      ]
     },
     "execution_count": 27,
     "metadata": {},
     "output_type": "execute_result"
    }
   ],
   "source": [
    "## accesing multiple columns while looking at them as keys\n",
    "## pass a list of column names \n",
    "mets[['reclat', 'mass (g)']]"
   ]
  },
  {
   "cell_type": "code",
   "execution_count": 28,
   "metadata": {},
   "outputs": [
    {
     "data": {
      "application/vnd.microsoft.datawrangler.viewer.v0+json": {
       "columns": [
        {
         "name": "index",
         "rawType": "int64",
         "type": "integer"
        },
        {
         "name": "name",
         "rawType": "object",
         "type": "string"
        },
        {
         "name": "id",
         "rawType": "int64",
         "type": "integer"
        },
        {
         "name": "nametype",
         "rawType": "object",
         "type": "string"
        },
        {
         "name": "recclass",
         "rawType": "object",
         "type": "string"
        },
        {
         "name": "mass (g)",
         "rawType": "float64",
         "type": "float"
        },
        {
         "name": "fall",
         "rawType": "object",
         "type": "string"
        },
        {
         "name": "year",
         "rawType": "object",
         "type": "string"
        },
        {
         "name": "reclat",
         "rawType": "float64",
         "type": "float"
        },
        {
         "name": "reclong",
         "rawType": "float64",
         "type": "float"
        },
        {
         "name": "GeoLocation",
         "rawType": "object",
         "type": "string"
        }
       ],
       "conversionMethod": "pd.DataFrame",
       "ref": "6e51c941-2da2-4771-aba7-29f25da6a58a",
       "rows": [
        [
         "0",
         "Aachen",
         "1",
         "Valid",
         "L5",
         "21.0",
         "Fell",
         "01/01/1880 12:00:00 AM",
         "50.775",
         "6.08333",
         "(50.775, 6.08333)"
        ],
        [
         "1",
         "Aarhus",
         "2",
         "Valid",
         "H6",
         "720.0",
         "Fell",
         "01/01/1951 12:00:00 AM",
         "56.18333",
         "10.23333",
         "(56.18333, 10.23333)"
        ],
        [
         "2",
         "Abee",
         "6",
         "Valid",
         "EH4",
         "107000.0",
         "Fell",
         "01/01/1952 12:00:00 AM",
         "54.21667",
         "-113.0",
         "(54.21667, -113.0)"
        ],
        [
         "3",
         "Acapulco",
         "10",
         "Valid",
         "Acapulcoite",
         "1914.0",
         "Fell",
         "01/01/1976 12:00:00 AM",
         "16.88333",
         "-99.9",
         "(16.88333, -99.9)"
        ],
        [
         "4",
         "Achiras",
         "370",
         "Valid",
         "L6",
         "780.0",
         "Fell",
         "01/01/1902 12:00:00 AM",
         "-33.16667",
         "-64.95",
         "(-33.16667, -64.95)"
        ],
        [
         "5",
         "Adhi Kot",
         "379",
         "Valid",
         "EH4",
         "4239.0",
         "Fell",
         "01/01/1919 12:00:00 AM",
         "32.1",
         "71.8",
         "(32.1, 71.8)"
        ],
        [
         "6",
         "Adzhi-Bogdo (stone)",
         "390",
         "Valid",
         "LL3-6",
         "910.0",
         "Fell",
         "01/01/1949 12:00:00 AM",
         "44.83333",
         "95.16667",
         "(44.83333, 95.16667)"
        ],
        [
         "7",
         "Agen",
         "392",
         "Valid",
         "H5",
         "30000.0",
         "Fell",
         "01/01/1814 12:00:00 AM",
         "44.21667",
         "0.61667",
         "(44.21667, 0.61667)"
        ]
       ],
       "shape": {
        "columns": 10,
        "rows": 8
       }
      },
      "text/html": [
       "<div>\n",
       "<style scoped>\n",
       "    .dataframe tbody tr th:only-of-type {\n",
       "        vertical-align: middle;\n",
       "    }\n",
       "\n",
       "    .dataframe tbody tr th {\n",
       "        vertical-align: top;\n",
       "    }\n",
       "\n",
       "    .dataframe thead th {\n",
       "        text-align: right;\n",
       "    }\n",
       "</style>\n",
       "<table border=\"1\" class=\"dataframe\">\n",
       "  <thead>\n",
       "    <tr style=\"text-align: right;\">\n",
       "      <th></th>\n",
       "      <th>name</th>\n",
       "      <th>id</th>\n",
       "      <th>nametype</th>\n",
       "      <th>recclass</th>\n",
       "      <th>mass (g)</th>\n",
       "      <th>fall</th>\n",
       "      <th>year</th>\n",
       "      <th>reclat</th>\n",
       "      <th>reclong</th>\n",
       "      <th>GeoLocation</th>\n",
       "    </tr>\n",
       "  </thead>\n",
       "  <tbody>\n",
       "    <tr>\n",
       "      <th>0</th>\n",
       "      <td>Aachen</td>\n",
       "      <td>1</td>\n",
       "      <td>Valid</td>\n",
       "      <td>L5</td>\n",
       "      <td>21.0</td>\n",
       "      <td>Fell</td>\n",
       "      <td>01/01/1880 12:00:00 AM</td>\n",
       "      <td>50.77500</td>\n",
       "      <td>6.08333</td>\n",
       "      <td>(50.775, 6.08333)</td>\n",
       "    </tr>\n",
       "    <tr>\n",
       "      <th>1</th>\n",
       "      <td>Aarhus</td>\n",
       "      <td>2</td>\n",
       "      <td>Valid</td>\n",
       "      <td>H6</td>\n",
       "      <td>720.0</td>\n",
       "      <td>Fell</td>\n",
       "      <td>01/01/1951 12:00:00 AM</td>\n",
       "      <td>56.18333</td>\n",
       "      <td>10.23333</td>\n",
       "      <td>(56.18333, 10.23333)</td>\n",
       "    </tr>\n",
       "    <tr>\n",
       "      <th>2</th>\n",
       "      <td>Abee</td>\n",
       "      <td>6</td>\n",
       "      <td>Valid</td>\n",
       "      <td>EH4</td>\n",
       "      <td>107000.0</td>\n",
       "      <td>Fell</td>\n",
       "      <td>01/01/1952 12:00:00 AM</td>\n",
       "      <td>54.21667</td>\n",
       "      <td>-113.00000</td>\n",
       "      <td>(54.21667, -113.0)</td>\n",
       "    </tr>\n",
       "    <tr>\n",
       "      <th>3</th>\n",
       "      <td>Acapulco</td>\n",
       "      <td>10</td>\n",
       "      <td>Valid</td>\n",
       "      <td>Acapulcoite</td>\n",
       "      <td>1914.0</td>\n",
       "      <td>Fell</td>\n",
       "      <td>01/01/1976 12:00:00 AM</td>\n",
       "      <td>16.88333</td>\n",
       "      <td>-99.90000</td>\n",
       "      <td>(16.88333, -99.9)</td>\n",
       "    </tr>\n",
       "    <tr>\n",
       "      <th>4</th>\n",
       "      <td>Achiras</td>\n",
       "      <td>370</td>\n",
       "      <td>Valid</td>\n",
       "      <td>L6</td>\n",
       "      <td>780.0</td>\n",
       "      <td>Fell</td>\n",
       "      <td>01/01/1902 12:00:00 AM</td>\n",
       "      <td>-33.16667</td>\n",
       "      <td>-64.95000</td>\n",
       "      <td>(-33.16667, -64.95)</td>\n",
       "    </tr>\n",
       "    <tr>\n",
       "      <th>5</th>\n",
       "      <td>Adhi Kot</td>\n",
       "      <td>379</td>\n",
       "      <td>Valid</td>\n",
       "      <td>EH4</td>\n",
       "      <td>4239.0</td>\n",
       "      <td>Fell</td>\n",
       "      <td>01/01/1919 12:00:00 AM</td>\n",
       "      <td>32.10000</td>\n",
       "      <td>71.80000</td>\n",
       "      <td>(32.1, 71.8)</td>\n",
       "    </tr>\n",
       "    <tr>\n",
       "      <th>6</th>\n",
       "      <td>Adzhi-Bogdo (stone)</td>\n",
       "      <td>390</td>\n",
       "      <td>Valid</td>\n",
       "      <td>LL3-6</td>\n",
       "      <td>910.0</td>\n",
       "      <td>Fell</td>\n",
       "      <td>01/01/1949 12:00:00 AM</td>\n",
       "      <td>44.83333</td>\n",
       "      <td>95.16667</td>\n",
       "      <td>(44.83333, 95.16667)</td>\n",
       "    </tr>\n",
       "    <tr>\n",
       "      <th>7</th>\n",
       "      <td>Agen</td>\n",
       "      <td>392</td>\n",
       "      <td>Valid</td>\n",
       "      <td>H5</td>\n",
       "      <td>30000.0</td>\n",
       "      <td>Fell</td>\n",
       "      <td>01/01/1814 12:00:00 AM</td>\n",
       "      <td>44.21667</td>\n",
       "      <td>0.61667</td>\n",
       "      <td>(44.21667, 0.61667)</td>\n",
       "    </tr>\n",
       "  </tbody>\n",
       "</table>\n",
       "</div>"
      ],
      "text/plain": [
       "                  name   id nametype     recclass  mass (g)  fall  \\\n",
       "0               Aachen    1    Valid           L5      21.0  Fell   \n",
       "1               Aarhus    2    Valid           H6     720.0  Fell   \n",
       "2                 Abee    6    Valid          EH4  107000.0  Fell   \n",
       "3             Acapulco   10    Valid  Acapulcoite    1914.0  Fell   \n",
       "4              Achiras  370    Valid           L6     780.0  Fell   \n",
       "5             Adhi Kot  379    Valid          EH4    4239.0  Fell   \n",
       "6  Adzhi-Bogdo (stone)  390    Valid        LL3-6     910.0  Fell   \n",
       "7                 Agen  392    Valid           H5   30000.0  Fell   \n",
       "\n",
       "                     year    reclat    reclong           GeoLocation  \n",
       "0  01/01/1880 12:00:00 AM  50.77500    6.08333     (50.775, 6.08333)  \n",
       "1  01/01/1951 12:00:00 AM  56.18333   10.23333  (56.18333, 10.23333)  \n",
       "2  01/01/1952 12:00:00 AM  54.21667 -113.00000    (54.21667, -113.0)  \n",
       "3  01/01/1976 12:00:00 AM  16.88333  -99.90000     (16.88333, -99.9)  \n",
       "4  01/01/1902 12:00:00 AM -33.16667  -64.95000   (-33.16667, -64.95)  \n",
       "5  01/01/1919 12:00:00 AM  32.10000   71.80000          (32.1, 71.8)  \n",
       "6  01/01/1949 12:00:00 AM  44.83333   95.16667  (44.83333, 95.16667)  \n",
       "7  01/01/1814 12:00:00 AM  44.21667    0.61667   (44.21667, 0.61667)  "
      ]
     },
     "execution_count": 28,
     "metadata": {},
     "output_type": "execute_result"
    }
   ],
   "source": [
    "## accesing a subset of the columns\n",
    "# note: cols 0, 1, ... ,7 are accessed\n",
    "mets[0:8]"
   ]
  },
  {
   "cell_type": "markdown",
   "metadata": {},
   "source": [
    "`df.iloc`: integer-location based indexing for selection by position. Allowed input data types are - integer, list, slice object, boolean array"
   ]
  },
  {
   "cell_type": "code",
   "execution_count": 29,
   "metadata": {},
   "outputs": [
    {
     "name": "stdout",
     "output_type": "stream",
     "text": [
      "name                           Aachen\n",
      "id                                  1\n",
      "nametype                        Valid\n",
      "recclass                           L5\n",
      "mass (g)                         21.0\n",
      "fall                             Fell\n",
      "year           01/01/1880 12:00:00 AM\n",
      "reclat                         50.775\n",
      "reclong                       6.08333\n",
      "GeoLocation         (50.775, 6.08333)\n",
      "Name: 0, dtype: object\n",
      "\n",
      " ---- \n",
      "\n",
      "     name   id nametype recclass  mass (g)  fall                    year  \\\n",
      "0  Aachen    1    Valid       L5      21.0  Fell  01/01/1880 12:00:00 AM   \n",
      "7    Agen  392    Valid       H5   30000.0  Fell  01/01/1814 12:00:00 AM   \n",
      "\n",
      "     reclat  reclong          GeoLocation  \n",
      "0  50.77500  6.08333    (50.775, 6.08333)  \n",
      "7  44.21667  0.61667  (44.21667, 0.61667)  \n"
     ]
    }
   ],
   "source": [
    "# integer and list inputs\n",
    "print(mets.iloc[0]) # to access just one row of the DataFrame\n",
    "print(f\"\\n ---- \\n\")\n",
    "print(mets.iloc[[0,7]]) # pass a list to access one or more rows of DataFrame"
   ]
  },
  {
   "cell_type": "code",
   "execution_count": 30,
   "metadata": {},
   "outputs": [
    {
     "name": "stdout",
     "output_type": "stream",
     "text": [
      "       name   id nametype     recclass  mass (g)  fall  \\\n",
      "0    Aachen    1    Valid           L5      21.0  Fell   \n",
      "1    Aarhus    2    Valid           H6     720.0  Fell   \n",
      "2      Abee    6    Valid          EH4  107000.0  Fell   \n",
      "3  Acapulco   10    Valid  Acapulcoite    1914.0  Fell   \n",
      "4   Achiras  370    Valid           L6     780.0  Fell   \n",
      "\n",
      "                     year    reclat    reclong           GeoLocation  \n",
      "0  01/01/1880 12:00:00 AM  50.77500    6.08333     (50.775, 6.08333)  \n",
      "1  01/01/1951 12:00:00 AM  56.18333   10.23333  (56.18333, 10.23333)  \n",
      "2  01/01/1952 12:00:00 AM  54.21667 -113.00000    (54.21667, -113.0)  \n",
      "3  01/01/1976 12:00:00 AM  16.88333  -99.90000     (16.88333, -99.9)  \n",
      "4  01/01/1902 12:00:00 AM -33.16667  -64.95000   (-33.16667, -64.95)  \n",
      "\n",
      " ---- \n",
      "\n",
      "       name   id nametype     recclass  mass (g)  fall  \\\n",
      "1    Aarhus    2    Valid           H6     720.0  Fell   \n",
      "2      Abee    6    Valid          EH4  107000.0  Fell   \n",
      "3  Acapulco   10    Valid  Acapulcoite    1914.0  Fell   \n",
      "4   Achiras  370    Valid           L6     780.0  Fell   \n",
      "\n",
      "                     year    reclat    reclong           GeoLocation  \n",
      "1  01/01/1951 12:00:00 AM  56.18333   10.23333  (56.18333, 10.23333)  \n",
      "2  01/01/1952 12:00:00 AM  54.21667 -113.00000    (54.21667, -113.0)  \n",
      "3  01/01/1976 12:00:00 AM  16.88333  -99.90000     (16.88333, -99.9)  \n",
      "4  01/01/1902 12:00:00 AM -33.16667  -64.95000   (-33.16667, -64.95)  \n",
      "\n",
      " ---- \n",
      "\n",
      "                  name   id nametype     recclass  mass (g)  fall  \\\n",
      "2                 Abee    6    Valid          EH4  107000.0  Fell   \n",
      "3             Acapulco   10    Valid  Acapulcoite    1914.0  Fell   \n",
      "4              Achiras  370    Valid           L6     780.0  Fell   \n",
      "5             Adhi Kot  379    Valid          EH4    4239.0  Fell   \n",
      "6  Adzhi-Bogdo (stone)  390    Valid        LL3-6     910.0  Fell   \n",
      "\n",
      "                     year    reclat    reclong           GeoLocation  \n",
      "2  01/01/1952 12:00:00 AM  54.21667 -113.00000    (54.21667, -113.0)  \n",
      "3  01/01/1976 12:00:00 AM  16.88333  -99.90000     (16.88333, -99.9)  \n",
      "4  01/01/1902 12:00:00 AM -33.16667  -64.95000   (-33.16667, -64.95)  \n",
      "5  01/01/1919 12:00:00 AM  32.10000   71.80000          (32.1, 71.8)  \n",
      "6  01/01/1949 12:00:00 AM  44.83333   95.16667  (44.83333, 95.16667)  \n"
     ]
    }
   ],
   "source": [
    "# slice object inputs\n",
    "print(mets.iloc[:5]) # rows 0, 1,2,3,\n",
    "print(f\"\\n ---- \\n\")\n",
    "print(mets.head().iloc[1:]) # rows 1 to last row\n",
    "print(f\"\\n ---- \\n\")\n",
    "print(mets.iloc[2:7]) # can pass slice objects as well. Note: it outputs rows 2, 3, 4, 5, and 6"
   ]
  },
  {
   "cell_type": "markdown",
   "metadata": {},
   "source": [
    "### <a id='toc1_3_3_'></a>[Basic Summary Statistics of a data frame](#toc0_)"
   ]
  },
  {
   "cell_type": "markdown",
   "metadata": {},
   "source": [
    "## <a id='toc1_4_'></a>[Categorical data types](#toc0_)\n",
    "This is similar to R's factor data type that allows the user to handle categorical or factor variables. The \"levels\" of a factor variable in R will be called the \"categories\" of a categorical data type in python. \n",
    "\n",
    "Categorical data types can be created using `pd.Series` by specifying `dtype=\"category\"`."
   ]
  },
  {
   "cell_type": "code",
   "execution_count": 31,
   "metadata": {},
   "outputs": [
    {
     "data": {
      "text/plain": [
       "0    a\n",
       "1    b\n",
       "2    c\n",
       "3    a\n",
       "dtype: category\n",
       "Categories (3, object): ['a', 'b', 'c']"
      ]
     },
     "execution_count": 31,
     "metadata": {},
     "output_type": "execute_result"
    }
   ],
   "source": [
    "cat_var = pd.Series([\"a\", \"b\", \"c\", \"a\"], dtype=\"category\")\n",
    "cat_var"
   ]
  },
  {
   "cell_type": "code",
   "execution_count": 38,
   "metadata": {},
   "outputs": [
    {
     "data": {
      "application/vnd.microsoft.datawrangler.viewer.v0+json": {
       "columns": [
        {
         "name": "index",
         "rawType": "int64",
         "type": "integer"
        },
        {
         "name": "name",
         "rawType": "object",
         "type": "string"
        },
        {
         "name": "id",
         "rawType": "int64",
         "type": "integer"
        },
        {
         "name": "nametype",
         "rawType": "object",
         "type": "string"
        },
        {
         "name": "recclass",
         "rawType": "object",
         "type": "string"
        },
        {
         "name": "mass (g)",
         "rawType": "float64",
         "type": "float"
        },
        {
         "name": "fall",
         "rawType": "object",
         "type": "string"
        },
        {
         "name": "year",
         "rawType": "object",
         "type": "unknown"
        },
        {
         "name": "reclat",
         "rawType": "float64",
         "type": "float"
        },
        {
         "name": "reclong",
         "rawType": "float64",
         "type": "float"
        },
        {
         "name": "GeoLocation",
         "rawType": "object",
         "type": "unknown"
        }
       ],
       "conversionMethod": "pd.DataFrame",
       "ref": "4bfd250a-9ecb-4c98-95ab-cc7e81241d27",
       "rows": [
        [
         "0",
         "Aachen",
         "1",
         "Valid",
         "L5",
         "21.0",
         "Fell",
         "01/01/1880 12:00:00 AM",
         "50.775",
         "6.08333",
         "(50.775, 6.08333)"
        ],
        [
         "1",
         "Aarhus",
         "2",
         "Valid",
         "H6",
         "720.0",
         "Fell",
         "01/01/1951 12:00:00 AM",
         "56.18333",
         "10.23333",
         "(56.18333, 10.23333)"
        ],
        [
         "2",
         "Abee",
         "6",
         "Valid",
         "EH4",
         "107000.0",
         "Fell",
         "01/01/1952 12:00:00 AM",
         "54.21667",
         "-113.0",
         "(54.21667, -113.0)"
        ],
        [
         "3",
         "Acapulco",
         "10",
         "Valid",
         "Acapulcoite",
         "1914.0",
         "Fell",
         "01/01/1976 12:00:00 AM",
         "16.88333",
         "-99.9",
         "(16.88333, -99.9)"
        ],
        [
         "4",
         "Achiras",
         "370",
         "Valid",
         "L6",
         "780.0",
         "Fell",
         "01/01/1902 12:00:00 AM",
         "-33.16667",
         "-64.95",
         "(-33.16667, -64.95)"
        ],
        [
         "5",
         "Adhi Kot",
         "379",
         "Valid",
         "EH4",
         "4239.0",
         "Fell",
         "01/01/1919 12:00:00 AM",
         "32.1",
         "71.8",
         "(32.1, 71.8)"
        ],
        [
         "6",
         "Adzhi-Bogdo (stone)",
         "390",
         "Valid",
         "LL3-6",
         "910.0",
         "Fell",
         "01/01/1949 12:00:00 AM",
         "44.83333",
         "95.16667",
         "(44.83333, 95.16667)"
        ],
        [
         "7",
         "Agen",
         "392",
         "Valid",
         "H5",
         "30000.0",
         "Fell",
         "01/01/1814 12:00:00 AM",
         "44.21667",
         "0.61667",
         "(44.21667, 0.61667)"
        ],
        [
         "8",
         "Aguada",
         "398",
         "Valid",
         "L6",
         "1620.0",
         "Fell",
         "01/01/1930 12:00:00 AM",
         "-31.6",
         "-65.23333",
         "(-31.6, -65.23333)"
        ],
        [
         "9",
         "Aguila Blanca",
         "417",
         "Valid",
         "L",
         "1440.0",
         "Fell",
         "01/01/1920 12:00:00 AM",
         "-30.86667",
         "-64.55",
         "(-30.86667, -64.55)"
        ],
        [
         "10",
         "Aioun el Atrouss",
         "423",
         "Valid",
         "Diogenite-pm",
         "1000.0",
         "Fell",
         "01/01/1974 12:00:00 AM",
         "16.39806",
         "-9.57028",
         "(16.39806, -9.57028)"
        ],
        [
         "11",
         "Aïr",
         "424",
         "Valid",
         "L6",
         "24000.0",
         "Fell",
         "01/01/1925 12:00:00 AM",
         "19.08333",
         "8.38333",
         "(19.08333, 8.38333)"
        ],
        [
         "12",
         "Aire-sur-la-Lys",
         "425",
         "Valid",
         "Unknown",
         null,
         "Fell",
         "01/01/1769 12:00:00 AM",
         "50.66667",
         "2.33333",
         "(50.66667, 2.33333)"
        ],
        [
         "13",
         "Akaba",
         "426",
         "Valid",
         "L6",
         "779.0",
         "Fell",
         "01/01/1949 12:00:00 AM",
         "29.51667",
         "35.05",
         "(29.51667, 35.05)"
        ],
        [
         "14",
         "Akbarpur",
         "427",
         "Valid",
         "H4",
         "1800.0",
         "Fell",
         "01/01/1838 12:00:00 AM",
         "29.71667",
         "77.95",
         "(29.71667, 77.95)"
        ],
        [
         "15",
         "Akwanga",
         "432",
         "Valid",
         "H",
         "3000.0",
         "Fell",
         "01/01/1959 12:00:00 AM",
         "8.91667",
         "8.43333",
         "(8.91667, 8.43333)"
        ],
        [
         "16",
         "Akyumak",
         "433",
         "Valid",
         "Iron, IVA",
         "50000.0",
         "Fell",
         "01/01/1981 12:00:00 AM",
         "39.91667",
         "42.81667",
         "(39.91667, 42.81667)"
        ],
        [
         "17",
         "Al Rais",
         "446",
         "Valid",
         "CR2-an",
         "160.0",
         "Fell",
         "01/01/1957 12:00:00 AM",
         "24.41667",
         "39.51667",
         "(24.41667, 39.51667)"
        ],
        [
         "18",
         "Al Zarnkh",
         "447",
         "Valid",
         "LL5",
         "700.0",
         "Fell",
         "01/01/2001 12:00:00 AM",
         "13.66033",
         "28.96",
         "(13.66033, 28.96)"
        ],
        [
         "19",
         "Alais",
         "448",
         "Valid",
         "CI1",
         "6000.0",
         "Fell",
         "01/01/1806 12:00:00 AM",
         "44.11667",
         "4.08333",
         "(44.11667, 4.08333)"
        ],
        [
         "20",
         "Albareto",
         "453",
         "Valid",
         "L/LL4",
         "2000.0",
         "Fell",
         "01/01/1766 12:00:00 AM",
         "44.65",
         "11.01667",
         "(44.65, 11.01667)"
        ],
        [
         "21",
         "Alberta",
         "454",
         "Valid",
         "L",
         "625.0",
         "Fell",
         "01/01/1949 12:00:00 AM",
         "2.0",
         "22.66667",
         "(2.0, 22.66667)"
        ],
        [
         "22",
         "Alby sur Chéran",
         "458",
         "Valid",
         "Eucrite-mmict",
         "252.0",
         "Fell",
         "01/01/2002 12:00:00 AM",
         "45.82133",
         "6.01533",
         "(45.82133, 6.01533)"
        ],
        [
         "23",
         "Aldsworth",
         "461",
         "Valid",
         "LL5",
         "700.0",
         "Fell",
         "01/01/1835 12:00:00 AM",
         "51.78333",
         "-1.78333",
         "(51.78333, -1.78333)"
        ],
        [
         "24",
         "Aleppo",
         "462",
         "Valid",
         "L6",
         "3200.0",
         "Fell",
         "01/01/1873 12:00:00 AM",
         "36.23333",
         "37.13333",
         "(36.23333, 37.13333)"
        ],
        [
         "25",
         "Alessandria",
         "463",
         "Valid",
         "H5",
         "908.0",
         "Fell",
         "01/01/1860 12:00:00 AM",
         "44.88333",
         "8.75",
         "(44.88333, 8.75)"
        ],
        [
         "26",
         "Alexandrovsky",
         "465",
         "Valid",
         "H4",
         "9251.0",
         "Fell",
         "01/01/1900 12:00:00 AM",
         "50.95",
         "31.81667",
         "(50.95, 31.81667)"
        ],
        [
         "27",
         "Alfianello",
         "466",
         "Valid",
         "L6",
         "228000.0",
         "Fell",
         "01/01/1883 12:00:00 AM",
         "45.26667",
         "10.15",
         "(45.26667, 10.15)"
        ],
        [
         "28",
         "Allegan",
         "2276",
         "Valid",
         "H5",
         "32000.0",
         "Fell",
         "01/01/1899 12:00:00 AM",
         "42.53333",
         "-85.88333",
         "(42.53333, -85.88333)"
        ],
        [
         "29",
         "Allende",
         "2278",
         "Valid",
         "CV3",
         "2000000.0",
         "Fell",
         "01/01/1969 12:00:00 AM",
         "26.96667",
         "-105.31667",
         "(26.96667, -105.31667)"
        ],
        [
         "30",
         "Almahata Sitta",
         "48915",
         "Valid",
         "Ureilite-an",
         "3950.0",
         "Fell",
         "01/01/2008 12:00:00 AM",
         "20.74575",
         "32.41275",
         "(20.74575, 32.41275)"
        ],
        [
         "31",
         "Alta'ameem",
         "2284",
         "Valid",
         "LL5",
         "6000.0",
         "Fell",
         "01/01/1977 12:00:00 AM",
         "35.27333",
         "44.21556",
         "(35.27333, 44.21556)"
        ],
        [
         "32",
         "Ambapur Nagla",
         "2290",
         "Valid",
         "H5",
         "6400.0",
         "Fell",
         "01/01/1895 12:00:00 AM",
         "27.66667",
         "78.25",
         "(27.66667, 78.25)"
        ],
        [
         "33",
         "Andhara",
         "2294",
         "Valid",
         "Stone-uncl",
         "2700.0",
         "Fell",
         "01/01/1880 12:00:00 AM",
         "26.58333",
         "85.56667",
         "(26.58333, 85.56667)"
        ],
        [
         "34",
         "Andover",
         "2295",
         "Valid",
         "L6",
         "3200.0",
         "Fell",
         "01/01/1898 12:00:00 AM",
         "44.61667",
         "-70.75",
         "(44.61667, -70.75)"
        ],
        [
         "35",
         "Andreevka",
         "2296",
         "Valid",
         "L3",
         "600.0",
         "Fell",
         "01/01/1969 12:00:00 AM",
         "48.7",
         "37.5",
         "(48.7, 37.5)"
        ],
        [
         "36",
         "Andura",
         "2298",
         "Valid",
         "H6",
         "17900.0",
         "Fell",
         "01/01/1939 12:00:00 AM",
         "20.88333",
         "76.86667",
         "(20.88333, 76.86667)"
        ],
        [
         "37",
         "Northwest Africa 5815",
         "50693",
         "Valid",
         "L5",
         "256.8",
         "Found",
         null,
         "0.0",
         "0.0",
         "(0.0, 0.0)"
        ],
        [
         "38",
         "Angers",
         "2301",
         "Valid",
         "L6",
         null,
         "Fell",
         "01/01/1822 12:00:00 AM",
         "47.46667",
         "-0.55",
         "(47.46667, -0.55)"
        ],
        [
         "39",
         "Angra dos Reis (stone)",
         "2302",
         "Valid",
         "Angrite",
         "1500.0",
         "Fell",
         "01/01/1869 12:00:00 AM",
         "-22.96667",
         "-44.31667",
         "(-22.96667, -44.31667)"
        ],
        [
         "40",
         "Ankober",
         "2304",
         "Valid",
         "H4",
         "6500.0",
         "Fell",
         "01/01/1942 12:00:00 AM",
         "9.53333",
         "39.71667",
         "(9.53333, 39.71667)"
        ],
        [
         "41",
         "Anlong",
         "2305",
         "Valid",
         "H5",
         "2500.0",
         "Fell",
         "01/01/1971 12:00:00 AM",
         "25.15",
         "105.18333",
         "(25.15, 105.18333)"
        ],
        [
         "42",
         "Aomori",
         "2313",
         "Valid",
         "L6",
         "320.0",
         "Fell",
         "01/01/1984 12:00:00 AM",
         "40.81056",
         "140.78556",
         "(40.81056, 140.78556)"
        ],
        [
         "43",
         "Appley Bridge",
         "2318",
         "Valid",
         "LL6",
         "15000.0",
         "Fell",
         "01/01/1914 12:00:00 AM",
         "53.58333",
         "-2.71667",
         "(53.58333, -2.71667)"
        ],
        [
         "44",
         "Apt",
         "2320",
         "Valid",
         "L6",
         "3200.0",
         "Fell",
         "01/01/1803 12:00:00 AM",
         "43.86667",
         "5.38333",
         "(43.86667, 5.38333)"
        ],
        [
         "45",
         "Arbol Solo",
         "2325",
         "Valid",
         "H5",
         "810.0",
         "Fell",
         "01/01/1954 12:00:00 AM",
         "-33.0",
         "-66.0",
         "(-33.0, -66.0)"
        ],
        [
         "46",
         "Archie",
         "2329",
         "Valid",
         "H6",
         "5070.0",
         "Fell",
         "01/01/1932 12:00:00 AM",
         "38.5",
         "-94.3",
         "(38.5, -94.3)"
        ],
        [
         "47",
         "Arroyo Aguiar",
         "2340",
         "Valid",
         "H5",
         "7450.0",
         "Fell",
         "01/01/1950 12:00:00 AM",
         "-31.41667",
         "-60.66667",
         "(-31.41667, -60.66667)"
        ],
        [
         "48",
         "Asco",
         "2345",
         "Valid",
         "H6",
         "41.0",
         "Fell",
         "01/01/1805 12:00:00 AM",
         "42.45",
         "9.03333",
         "(42.45, 9.03333)"
        ],
        [
         "49",
         "Ash Creek",
         "48954",
         "Valid",
         "L6",
         "9500.0",
         "Fell",
         "01/01/2009 12:00:00 AM",
         "31.805",
         "-97.01",
         "(31.805, -97.01)"
        ]
       ],
       "shape": {
        "columns": 10,
        "rows": 45716
       }
      },
      "text/html": [
       "<div>\n",
       "<style scoped>\n",
       "    .dataframe tbody tr th:only-of-type {\n",
       "        vertical-align: middle;\n",
       "    }\n",
       "\n",
       "    .dataframe tbody tr th {\n",
       "        vertical-align: top;\n",
       "    }\n",
       "\n",
       "    .dataframe thead th {\n",
       "        text-align: right;\n",
       "    }\n",
       "</style>\n",
       "<table border=\"1\" class=\"dataframe\">\n",
       "  <thead>\n",
       "    <tr style=\"text-align: right;\">\n",
       "      <th></th>\n",
       "      <th>name</th>\n",
       "      <th>id</th>\n",
       "      <th>nametype</th>\n",
       "      <th>recclass</th>\n",
       "      <th>mass (g)</th>\n",
       "      <th>fall</th>\n",
       "      <th>year</th>\n",
       "      <th>reclat</th>\n",
       "      <th>reclong</th>\n",
       "      <th>GeoLocation</th>\n",
       "    </tr>\n",
       "  </thead>\n",
       "  <tbody>\n",
       "    <tr>\n",
       "      <th>0</th>\n",
       "      <td>Aachen</td>\n",
       "      <td>1</td>\n",
       "      <td>Valid</td>\n",
       "      <td>L5</td>\n",
       "      <td>21.0</td>\n",
       "      <td>Fell</td>\n",
       "      <td>01/01/1880 12:00:00 AM</td>\n",
       "      <td>50.77500</td>\n",
       "      <td>6.08333</td>\n",
       "      <td>(50.775, 6.08333)</td>\n",
       "    </tr>\n",
       "    <tr>\n",
       "      <th>1</th>\n",
       "      <td>Aarhus</td>\n",
       "      <td>2</td>\n",
       "      <td>Valid</td>\n",
       "      <td>H6</td>\n",
       "      <td>720.0</td>\n",
       "      <td>Fell</td>\n",
       "      <td>01/01/1951 12:00:00 AM</td>\n",
       "      <td>56.18333</td>\n",
       "      <td>10.23333</td>\n",
       "      <td>(56.18333, 10.23333)</td>\n",
       "    </tr>\n",
       "    <tr>\n",
       "      <th>2</th>\n",
       "      <td>Abee</td>\n",
       "      <td>6</td>\n",
       "      <td>Valid</td>\n",
       "      <td>EH4</td>\n",
       "      <td>107000.0</td>\n",
       "      <td>Fell</td>\n",
       "      <td>01/01/1952 12:00:00 AM</td>\n",
       "      <td>54.21667</td>\n",
       "      <td>-113.00000</td>\n",
       "      <td>(54.21667, -113.0)</td>\n",
       "    </tr>\n",
       "    <tr>\n",
       "      <th>3</th>\n",
       "      <td>Acapulco</td>\n",
       "      <td>10</td>\n",
       "      <td>Valid</td>\n",
       "      <td>Acapulcoite</td>\n",
       "      <td>1914.0</td>\n",
       "      <td>Fell</td>\n",
       "      <td>01/01/1976 12:00:00 AM</td>\n",
       "      <td>16.88333</td>\n",
       "      <td>-99.90000</td>\n",
       "      <td>(16.88333, -99.9)</td>\n",
       "    </tr>\n",
       "    <tr>\n",
       "      <th>4</th>\n",
       "      <td>Achiras</td>\n",
       "      <td>370</td>\n",
       "      <td>Valid</td>\n",
       "      <td>L6</td>\n",
       "      <td>780.0</td>\n",
       "      <td>Fell</td>\n",
       "      <td>01/01/1902 12:00:00 AM</td>\n",
       "      <td>-33.16667</td>\n",
       "      <td>-64.95000</td>\n",
       "      <td>(-33.16667, -64.95)</td>\n",
       "    </tr>\n",
       "    <tr>\n",
       "      <th>...</th>\n",
       "      <td>...</td>\n",
       "      <td>...</td>\n",
       "      <td>...</td>\n",
       "      <td>...</td>\n",
       "      <td>...</td>\n",
       "      <td>...</td>\n",
       "      <td>...</td>\n",
       "      <td>...</td>\n",
       "      <td>...</td>\n",
       "      <td>...</td>\n",
       "    </tr>\n",
       "    <tr>\n",
       "      <th>45711</th>\n",
       "      <td>Zillah 002</td>\n",
       "      <td>31356</td>\n",
       "      <td>Valid</td>\n",
       "      <td>Eucrite</td>\n",
       "      <td>172.0</td>\n",
       "      <td>Found</td>\n",
       "      <td>01/01/1990 12:00:00 AM</td>\n",
       "      <td>29.03700</td>\n",
       "      <td>17.01850</td>\n",
       "      <td>(29.037, 17.0185)</td>\n",
       "    </tr>\n",
       "    <tr>\n",
       "      <th>45712</th>\n",
       "      <td>Zinder</td>\n",
       "      <td>30409</td>\n",
       "      <td>Valid</td>\n",
       "      <td>Pallasite, ungrouped</td>\n",
       "      <td>46.0</td>\n",
       "      <td>Found</td>\n",
       "      <td>01/01/1999 12:00:00 AM</td>\n",
       "      <td>13.78333</td>\n",
       "      <td>8.96667</td>\n",
       "      <td>(13.78333, 8.96667)</td>\n",
       "    </tr>\n",
       "    <tr>\n",
       "      <th>45713</th>\n",
       "      <td>Zlin</td>\n",
       "      <td>30410</td>\n",
       "      <td>Valid</td>\n",
       "      <td>H4</td>\n",
       "      <td>3.3</td>\n",
       "      <td>Found</td>\n",
       "      <td>01/01/1939 12:00:00 AM</td>\n",
       "      <td>49.25000</td>\n",
       "      <td>17.66667</td>\n",
       "      <td>(49.25, 17.66667)</td>\n",
       "    </tr>\n",
       "    <tr>\n",
       "      <th>45714</th>\n",
       "      <td>Zubkovsky</td>\n",
       "      <td>31357</td>\n",
       "      <td>Valid</td>\n",
       "      <td>L6</td>\n",
       "      <td>2167.0</td>\n",
       "      <td>Found</td>\n",
       "      <td>01/01/2003 12:00:00 AM</td>\n",
       "      <td>49.78917</td>\n",
       "      <td>41.50460</td>\n",
       "      <td>(49.78917, 41.5046)</td>\n",
       "    </tr>\n",
       "    <tr>\n",
       "      <th>45715</th>\n",
       "      <td>Zulu Queen</td>\n",
       "      <td>30414</td>\n",
       "      <td>Valid</td>\n",
       "      <td>L3.7</td>\n",
       "      <td>200.0</td>\n",
       "      <td>Found</td>\n",
       "      <td>01/01/1976 12:00:00 AM</td>\n",
       "      <td>33.98333</td>\n",
       "      <td>-115.68333</td>\n",
       "      <td>(33.98333, -115.68333)</td>\n",
       "    </tr>\n",
       "  </tbody>\n",
       "</table>\n",
       "<p>45716 rows × 10 columns</p>\n",
       "</div>"
      ],
      "text/plain": [
       "             name     id nametype              recclass  mass (g)   fall  \\\n",
       "0          Aachen      1    Valid                    L5      21.0   Fell   \n",
       "1          Aarhus      2    Valid                    H6     720.0   Fell   \n",
       "2            Abee      6    Valid                   EH4  107000.0   Fell   \n",
       "3        Acapulco     10    Valid           Acapulcoite    1914.0   Fell   \n",
       "4         Achiras    370    Valid                    L6     780.0   Fell   \n",
       "...           ...    ...      ...                   ...       ...    ...   \n",
       "45711  Zillah 002  31356    Valid               Eucrite     172.0  Found   \n",
       "45712      Zinder  30409    Valid  Pallasite, ungrouped      46.0  Found   \n",
       "45713        Zlin  30410    Valid                    H4       3.3  Found   \n",
       "45714   Zubkovsky  31357    Valid                    L6    2167.0  Found   \n",
       "45715  Zulu Queen  30414    Valid                  L3.7     200.0  Found   \n",
       "\n",
       "                         year    reclat    reclong             GeoLocation  \n",
       "0      01/01/1880 12:00:00 AM  50.77500    6.08333       (50.775, 6.08333)  \n",
       "1      01/01/1951 12:00:00 AM  56.18333   10.23333    (56.18333, 10.23333)  \n",
       "2      01/01/1952 12:00:00 AM  54.21667 -113.00000      (54.21667, -113.0)  \n",
       "3      01/01/1976 12:00:00 AM  16.88333  -99.90000       (16.88333, -99.9)  \n",
       "4      01/01/1902 12:00:00 AM -33.16667  -64.95000     (-33.16667, -64.95)  \n",
       "...                       ...       ...        ...                     ...  \n",
       "45711  01/01/1990 12:00:00 AM  29.03700   17.01850       (29.037, 17.0185)  \n",
       "45712  01/01/1999 12:00:00 AM  13.78333    8.96667     (13.78333, 8.96667)  \n",
       "45713  01/01/1939 12:00:00 AM  49.25000   17.66667       (49.25, 17.66667)  \n",
       "45714  01/01/2003 12:00:00 AM  49.78917   41.50460     (49.78917, 41.5046)  \n",
       "45715  01/01/1976 12:00:00 AM  33.98333 -115.68333  (33.98333, -115.68333)  \n",
       "\n",
       "[45716 rows x 10 columns]"
      ]
     },
     "execution_count": 38,
     "metadata": {},
     "output_type": "execute_result"
    }
   ],
   "source": [
    "mets"
   ]
  },
  {
   "cell_type": "markdown",
   "metadata": {},
   "source": [
    "Convert an existing column in data frame to the categorical data type using the dataframe attribute `astype(\"category\")`"
   ]
  },
  {
   "cell_type": "code",
   "execution_count": null,
   "metadata": {},
   "outputs": [
    {
     "name": "stdout",
     "output_type": "stream",
     "text": [
      "object\n"
     ]
    },
    {
     "data": {
      "text/plain": [
       "0         Fell\n",
       "1         Fell\n",
       "2         Fell\n",
       "3         Fell\n",
       "4         Fell\n",
       "         ...  \n",
       "45711    Found\n",
       "45712    Found\n",
       "45713    Found\n",
       "45714    Found\n",
       "45715    Found\n",
       "Name: fall, Length: 45716, dtype: object"
      ]
     },
     "execution_count": 40,
     "metadata": {},
     "output_type": "execute_result"
    }
   ],
   "source": [
    "print(mets[\"fall\"].dtype)\n",
    "mets[\"fall\"]"
   ]
  },
  {
   "cell_type": "code",
   "execution_count": 41,
   "metadata": {},
   "outputs": [
    {
     "data": {
      "text/plain": [
       "name             object\n",
       "id                int64\n",
       "nametype       category\n",
       "recclass       category\n",
       "mass (g)        float64\n",
       "fall           category\n",
       "year             object\n",
       "reclat          float64\n",
       "reclong         float64\n",
       "GeoLocation      object\n",
       "dtype: object"
      ]
     },
     "execution_count": 41,
     "metadata": {},
     "output_type": "execute_result"
    }
   ],
   "source": [
    "cat_cols = [\"nametype\", 'recclass', 'fall']\n",
    "mets[cat_cols] = mets[cat_cols].astype(\"category\")\n",
    "mets.dtypes"
   ]
  },
  {
   "cell_type": "markdown",
   "metadata": {},
   "source": [
    "Use `pd.cut()` to group data into discrete bins i.e. to \"discretize\" a continuous variable"
   ]
  },
  {
   "cell_type": "code",
   "execution_count": 42,
   "metadata": {},
   "outputs": [
    {
     "data": {
      "text/plain": [
       "0.00   -87.36667\n",
       "0.25   -76.71424\n",
       "0.50   -71.50000\n",
       "0.75     0.00000\n",
       "1.00    81.16667\n",
       "Name: reclat, dtype: float64"
      ]
     },
     "execution_count": 42,
     "metadata": {},
     "output_type": "execute_result"
    }
   ],
   "source": [
    "mets['reclat'].quantile([0, 0.25, 0.5, 0.75, 1])"
   ]
  },
  {
   "cell_type": "code",
   "execution_count": 47,
   "metadata": {},
   "outputs": [
    {
     "data": {
      "application/vnd.microsoft.datawrangler.viewer.v0+json": {
       "columns": [
        {
         "name": "index",
         "rawType": "int64",
         "type": "integer"
        },
        {
         "name": "name",
         "rawType": "object",
         "type": "string"
        },
        {
         "name": "id",
         "rawType": "int64",
         "type": "integer"
        },
        {
         "name": "nametype",
         "rawType": "category",
         "type": "unknown"
        },
        {
         "name": "recclass",
         "rawType": "category",
         "type": "unknown"
        },
        {
         "name": "mass (g)",
         "rawType": "float64",
         "type": "float"
        },
        {
         "name": "fall",
         "rawType": "category",
         "type": "unknown"
        },
        {
         "name": "year",
         "rawType": "object",
         "type": "unknown"
        },
        {
         "name": "reclat",
         "rawType": "float64",
         "type": "float"
        },
        {
         "name": "reclong",
         "rawType": "float64",
         "type": "float"
        },
        {
         "name": "GeoLocation",
         "rawType": "object",
         "type": "unknown"
        },
        {
         "name": "reclat_group",
         "rawType": "category",
         "type": "unknown"
        }
       ],
       "conversionMethod": "pd.DataFrame",
       "ref": "a6273083-da87-4278-b5f2-1517ff89dae0",
       "rows": [
        [
         "0",
         "Aachen",
         "1",
         "Valid",
         "L5",
         "21.0",
         "Fell",
         "01/01/1880 12:00:00 AM",
         "50.775",
         "6.08333",
         "(50.775, 6.08333)",
         "33 - 52"
        ],
        [
         "1",
         "Aarhus",
         "2",
         "Valid",
         "H6",
         "720.0",
         "Fell",
         "01/01/1951 12:00:00 AM",
         "56.18333",
         "10.23333",
         "(56.18333, 10.23333)",
         "53 - 72"
        ],
        [
         "2",
         "Abee",
         "6",
         "Valid",
         "EH4",
         "107000.0",
         "Fell",
         "01/01/1952 12:00:00 AM",
         "54.21667",
         "-113.0",
         "(54.21667, -113.0)",
         "53 - 72"
        ],
        [
         "3",
         "Acapulco",
         "10",
         "Valid",
         "Acapulcoite",
         "1914.0",
         "Fell",
         "01/01/1976 12:00:00 AM",
         "16.88333",
         "-99.9",
         "(16.88333, -99.9)",
         "13 - 32"
        ],
        [
         "4",
         "Achiras",
         "370",
         "Valid",
         "L6",
         "780.0",
         "Fell",
         "01/01/1902 12:00:00 AM",
         "-33.16667",
         "-64.95",
         "(-33.16667, -64.95)",
         "-47 - -28"
        ],
        [
         "5",
         "Adhi Kot",
         "379",
         "Valid",
         "EH4",
         "4239.0",
         "Fell",
         "01/01/1919 12:00:00 AM",
         "32.1",
         "71.8",
         "(32.1, 71.8)",
         "13 - 32"
        ],
        [
         "6",
         "Adzhi-Bogdo (stone)",
         "390",
         "Valid",
         "LL3-6",
         "910.0",
         "Fell",
         "01/01/1949 12:00:00 AM",
         "44.83333",
         "95.16667",
         "(44.83333, 95.16667)",
         "33 - 52"
        ],
        [
         "7",
         "Agen",
         "392",
         "Valid",
         "H5",
         "30000.0",
         "Fell",
         "01/01/1814 12:00:00 AM",
         "44.21667",
         "0.61667",
         "(44.21667, 0.61667)",
         "33 - 52"
        ],
        [
         "8",
         "Aguada",
         "398",
         "Valid",
         "L6",
         "1620.0",
         "Fell",
         "01/01/1930 12:00:00 AM",
         "-31.6",
         "-65.23333",
         "(-31.6, -65.23333)",
         "-47 - -28"
        ],
        [
         "9",
         "Aguila Blanca",
         "417",
         "Valid",
         "L",
         "1440.0",
         "Fell",
         "01/01/1920 12:00:00 AM",
         "-30.86667",
         "-64.55",
         "(-30.86667, -64.55)",
         "-47 - -28"
        ],
        [
         "10",
         "Aioun el Atrouss",
         "423",
         "Valid",
         "Diogenite-pm",
         "1000.0",
         "Fell",
         "01/01/1974 12:00:00 AM",
         "16.39806",
         "-9.57028",
         "(16.39806, -9.57028)",
         "13 - 32"
        ],
        [
         "11",
         "Aïr",
         "424",
         "Valid",
         "L6",
         "24000.0",
         "Fell",
         "01/01/1925 12:00:00 AM",
         "19.08333",
         "8.38333",
         "(19.08333, 8.38333)",
         "13 - 32"
        ],
        [
         "12",
         "Aire-sur-la-Lys",
         "425",
         "Valid",
         "Unknown",
         null,
         "Fell",
         "01/01/1769 12:00:00 AM",
         "50.66667",
         "2.33333",
         "(50.66667, 2.33333)",
         "33 - 52"
        ],
        [
         "13",
         "Akaba",
         "426",
         "Valid",
         "L6",
         "779.0",
         "Fell",
         "01/01/1949 12:00:00 AM",
         "29.51667",
         "35.05",
         "(29.51667, 35.05)",
         "13 - 32"
        ],
        [
         "14",
         "Akbarpur",
         "427",
         "Valid",
         "H4",
         "1800.0",
         "Fell",
         "01/01/1838 12:00:00 AM",
         "29.71667",
         "77.95",
         "(29.71667, 77.95)",
         "13 - 32"
        ],
        [
         "15",
         "Akwanga",
         "432",
         "Valid",
         "H",
         "3000.0",
         "Fell",
         "01/01/1959 12:00:00 AM",
         "8.91667",
         "8.43333",
         "(8.91667, 8.43333)",
         "-7 - 12"
        ],
        [
         "16",
         "Akyumak",
         "433",
         "Valid",
         "Iron, IVA",
         "50000.0",
         "Fell",
         "01/01/1981 12:00:00 AM",
         "39.91667",
         "42.81667",
         "(39.91667, 42.81667)",
         "33 - 52"
        ],
        [
         "17",
         "Al Rais",
         "446",
         "Valid",
         "CR2-an",
         "160.0",
         "Fell",
         "01/01/1957 12:00:00 AM",
         "24.41667",
         "39.51667",
         "(24.41667, 39.51667)",
         "13 - 32"
        ],
        [
         "18",
         "Al Zarnkh",
         "447",
         "Valid",
         "LL5",
         "700.0",
         "Fell",
         "01/01/2001 12:00:00 AM",
         "13.66033",
         "28.96",
         "(13.66033, 28.96)",
         "13 - 32"
        ],
        [
         "19",
         "Alais",
         "448",
         "Valid",
         "CI1",
         "6000.0",
         "Fell",
         "01/01/1806 12:00:00 AM",
         "44.11667",
         "4.08333",
         "(44.11667, 4.08333)",
         "33 - 52"
        ],
        [
         "20",
         "Albareto",
         "453",
         "Valid",
         "L/LL4",
         "2000.0",
         "Fell",
         "01/01/1766 12:00:00 AM",
         "44.65",
         "11.01667",
         "(44.65, 11.01667)",
         "33 - 52"
        ],
        [
         "21",
         "Alberta",
         "454",
         "Valid",
         "L",
         "625.0",
         "Fell",
         "01/01/1949 12:00:00 AM",
         "2.0",
         "22.66667",
         "(2.0, 22.66667)",
         "-7 - 12"
        ],
        [
         "22",
         "Alby sur Chéran",
         "458",
         "Valid",
         "Eucrite-mmict",
         "252.0",
         "Fell",
         "01/01/2002 12:00:00 AM",
         "45.82133",
         "6.01533",
         "(45.82133, 6.01533)",
         "33 - 52"
        ],
        [
         "23",
         "Aldsworth",
         "461",
         "Valid",
         "LL5",
         "700.0",
         "Fell",
         "01/01/1835 12:00:00 AM",
         "51.78333",
         "-1.78333",
         "(51.78333, -1.78333)",
         "33 - 52"
        ],
        [
         "24",
         "Aleppo",
         "462",
         "Valid",
         "L6",
         "3200.0",
         "Fell",
         "01/01/1873 12:00:00 AM",
         "36.23333",
         "37.13333",
         "(36.23333, 37.13333)",
         "33 - 52"
        ],
        [
         "25",
         "Alessandria",
         "463",
         "Valid",
         "H5",
         "908.0",
         "Fell",
         "01/01/1860 12:00:00 AM",
         "44.88333",
         "8.75",
         "(44.88333, 8.75)",
         "33 - 52"
        ],
        [
         "26",
         "Alexandrovsky",
         "465",
         "Valid",
         "H4",
         "9251.0",
         "Fell",
         "01/01/1900 12:00:00 AM",
         "50.95",
         "31.81667",
         "(50.95, 31.81667)",
         "33 - 52"
        ],
        [
         "27",
         "Alfianello",
         "466",
         "Valid",
         "L6",
         "228000.0",
         "Fell",
         "01/01/1883 12:00:00 AM",
         "45.26667",
         "10.15",
         "(45.26667, 10.15)",
         "33 - 52"
        ],
        [
         "28",
         "Allegan",
         "2276",
         "Valid",
         "H5",
         "32000.0",
         "Fell",
         "01/01/1899 12:00:00 AM",
         "42.53333",
         "-85.88333",
         "(42.53333, -85.88333)",
         "33 - 52"
        ],
        [
         "29",
         "Allende",
         "2278",
         "Valid",
         "CV3",
         "2000000.0",
         "Fell",
         "01/01/1969 12:00:00 AM",
         "26.96667",
         "-105.31667",
         "(26.96667, -105.31667)",
         "13 - 32"
        ],
        [
         "30",
         "Almahata Sitta",
         "48915",
         "Valid",
         "Ureilite-an",
         "3950.0",
         "Fell",
         "01/01/2008 12:00:00 AM",
         "20.74575",
         "32.41275",
         "(20.74575, 32.41275)",
         "13 - 32"
        ],
        [
         "31",
         "Alta'ameem",
         "2284",
         "Valid",
         "LL5",
         "6000.0",
         "Fell",
         "01/01/1977 12:00:00 AM",
         "35.27333",
         "44.21556",
         "(35.27333, 44.21556)",
         "33 - 52"
        ],
        [
         "32",
         "Ambapur Nagla",
         "2290",
         "Valid",
         "H5",
         "6400.0",
         "Fell",
         "01/01/1895 12:00:00 AM",
         "27.66667",
         "78.25",
         "(27.66667, 78.25)",
         "13 - 32"
        ],
        [
         "33",
         "Andhara",
         "2294",
         "Valid",
         "Stone-uncl",
         "2700.0",
         "Fell",
         "01/01/1880 12:00:00 AM",
         "26.58333",
         "85.56667",
         "(26.58333, 85.56667)",
         "13 - 32"
        ],
        [
         "34",
         "Andover",
         "2295",
         "Valid",
         "L6",
         "3200.0",
         "Fell",
         "01/01/1898 12:00:00 AM",
         "44.61667",
         "-70.75",
         "(44.61667, -70.75)",
         "33 - 52"
        ],
        [
         "35",
         "Andreevka",
         "2296",
         "Valid",
         "L3",
         "600.0",
         "Fell",
         "01/01/1969 12:00:00 AM",
         "48.7",
         "37.5",
         "(48.7, 37.5)",
         "33 - 52"
        ],
        [
         "36",
         "Andura",
         "2298",
         "Valid",
         "H6",
         "17900.0",
         "Fell",
         "01/01/1939 12:00:00 AM",
         "20.88333",
         "76.86667",
         "(20.88333, 76.86667)",
         "13 - 32"
        ],
        [
         "37",
         "Northwest Africa 5815",
         "50693",
         "Valid",
         "L5",
         "256.8",
         "Found",
         null,
         "0.0",
         "0.0",
         "(0.0, 0.0)",
         "-7 - 12"
        ],
        [
         "38",
         "Angers",
         "2301",
         "Valid",
         "L6",
         null,
         "Fell",
         "01/01/1822 12:00:00 AM",
         "47.46667",
         "-0.55",
         "(47.46667, -0.55)",
         "33 - 52"
        ],
        [
         "39",
         "Angra dos Reis (stone)",
         "2302",
         "Valid",
         "Angrite",
         "1500.0",
         "Fell",
         "01/01/1869 12:00:00 AM",
         "-22.96667",
         "-44.31667",
         "(-22.96667, -44.31667)",
         "-27 - -8"
        ],
        [
         "40",
         "Ankober",
         "2304",
         "Valid",
         "H4",
         "6500.0",
         "Fell",
         "01/01/1942 12:00:00 AM",
         "9.53333",
         "39.71667",
         "(9.53333, 39.71667)",
         "-7 - 12"
        ],
        [
         "41",
         "Anlong",
         "2305",
         "Valid",
         "H5",
         "2500.0",
         "Fell",
         "01/01/1971 12:00:00 AM",
         "25.15",
         "105.18333",
         "(25.15, 105.18333)",
         "13 - 32"
        ],
        [
         "42",
         "Aomori",
         "2313",
         "Valid",
         "L6",
         "320.0",
         "Fell",
         "01/01/1984 12:00:00 AM",
         "40.81056",
         "140.78556",
         "(40.81056, 140.78556)",
         "33 - 52"
        ],
        [
         "43",
         "Appley Bridge",
         "2318",
         "Valid",
         "LL6",
         "15000.0",
         "Fell",
         "01/01/1914 12:00:00 AM",
         "53.58333",
         "-2.71667",
         "(53.58333, -2.71667)",
         "53 - 72"
        ],
        [
         "44",
         "Apt",
         "2320",
         "Valid",
         "L6",
         "3200.0",
         "Fell",
         "01/01/1803 12:00:00 AM",
         "43.86667",
         "5.38333",
         "(43.86667, 5.38333)",
         "33 - 52"
        ],
        [
         "45",
         "Arbol Solo",
         "2325",
         "Valid",
         "H5",
         "810.0",
         "Fell",
         "01/01/1954 12:00:00 AM",
         "-33.0",
         "-66.0",
         "(-33.0, -66.0)",
         "-47 - -28"
        ],
        [
         "46",
         "Archie",
         "2329",
         "Valid",
         "H6",
         "5070.0",
         "Fell",
         "01/01/1932 12:00:00 AM",
         "38.5",
         "-94.3",
         "(38.5, -94.3)",
         "33 - 52"
        ],
        [
         "47",
         "Arroyo Aguiar",
         "2340",
         "Valid",
         "H5",
         "7450.0",
         "Fell",
         "01/01/1950 12:00:00 AM",
         "-31.41667",
         "-60.66667",
         "(-31.41667, -60.66667)",
         "-47 - -28"
        ],
        [
         "48",
         "Asco",
         "2345",
         "Valid",
         "H6",
         "41.0",
         "Fell",
         "01/01/1805 12:00:00 AM",
         "42.45",
         "9.03333",
         "(42.45, 9.03333)",
         "33 - 52"
        ],
        [
         "49",
         "Ash Creek",
         "48954",
         "Valid",
         "L6",
         "9500.0",
         "Fell",
         "01/01/2009 12:00:00 AM",
         "31.805",
         "-97.01",
         "(31.805, -97.01)",
         "13 - 32"
        ]
       ],
       "shape": {
        "columns": 11,
        "rows": 45716
       }
      },
      "text/html": [
       "<div>\n",
       "<style scoped>\n",
       "    .dataframe tbody tr th:only-of-type {\n",
       "        vertical-align: middle;\n",
       "    }\n",
       "\n",
       "    .dataframe tbody tr th {\n",
       "        vertical-align: top;\n",
       "    }\n",
       "\n",
       "    .dataframe thead th {\n",
       "        text-align: right;\n",
       "    }\n",
       "</style>\n",
       "<table border=\"1\" class=\"dataframe\">\n",
       "  <thead>\n",
       "    <tr style=\"text-align: right;\">\n",
       "      <th></th>\n",
       "      <th>name</th>\n",
       "      <th>id</th>\n",
       "      <th>nametype</th>\n",
       "      <th>recclass</th>\n",
       "      <th>mass (g)</th>\n",
       "      <th>fall</th>\n",
       "      <th>year</th>\n",
       "      <th>reclat</th>\n",
       "      <th>reclong</th>\n",
       "      <th>GeoLocation</th>\n",
       "      <th>reclat_group</th>\n",
       "    </tr>\n",
       "  </thead>\n",
       "  <tbody>\n",
       "    <tr>\n",
       "      <th>0</th>\n",
       "      <td>Aachen</td>\n",
       "      <td>1</td>\n",
       "      <td>Valid</td>\n",
       "      <td>L5</td>\n",
       "      <td>21.0</td>\n",
       "      <td>Fell</td>\n",
       "      <td>01/01/1880 12:00:00 AM</td>\n",
       "      <td>50.77500</td>\n",
       "      <td>6.08333</td>\n",
       "      <td>(50.775, 6.08333)</td>\n",
       "      <td>33 - 52</td>\n",
       "    </tr>\n",
       "    <tr>\n",
       "      <th>1</th>\n",
       "      <td>Aarhus</td>\n",
       "      <td>2</td>\n",
       "      <td>Valid</td>\n",
       "      <td>H6</td>\n",
       "      <td>720.0</td>\n",
       "      <td>Fell</td>\n",
       "      <td>01/01/1951 12:00:00 AM</td>\n",
       "      <td>56.18333</td>\n",
       "      <td>10.23333</td>\n",
       "      <td>(56.18333, 10.23333)</td>\n",
       "      <td>53 - 72</td>\n",
       "    </tr>\n",
       "    <tr>\n",
       "      <th>2</th>\n",
       "      <td>Abee</td>\n",
       "      <td>6</td>\n",
       "      <td>Valid</td>\n",
       "      <td>EH4</td>\n",
       "      <td>107000.0</td>\n",
       "      <td>Fell</td>\n",
       "      <td>01/01/1952 12:00:00 AM</td>\n",
       "      <td>54.21667</td>\n",
       "      <td>-113.00000</td>\n",
       "      <td>(54.21667, -113.0)</td>\n",
       "      <td>53 - 72</td>\n",
       "    </tr>\n",
       "    <tr>\n",
       "      <th>3</th>\n",
       "      <td>Acapulco</td>\n",
       "      <td>10</td>\n",
       "      <td>Valid</td>\n",
       "      <td>Acapulcoite</td>\n",
       "      <td>1914.0</td>\n",
       "      <td>Fell</td>\n",
       "      <td>01/01/1976 12:00:00 AM</td>\n",
       "      <td>16.88333</td>\n",
       "      <td>-99.90000</td>\n",
       "      <td>(16.88333, -99.9)</td>\n",
       "      <td>13 - 32</td>\n",
       "    </tr>\n",
       "    <tr>\n",
       "      <th>4</th>\n",
       "      <td>Achiras</td>\n",
       "      <td>370</td>\n",
       "      <td>Valid</td>\n",
       "      <td>L6</td>\n",
       "      <td>780.0</td>\n",
       "      <td>Fell</td>\n",
       "      <td>01/01/1902 12:00:00 AM</td>\n",
       "      <td>-33.16667</td>\n",
       "      <td>-64.95000</td>\n",
       "      <td>(-33.16667, -64.95)</td>\n",
       "      <td>-47 - -28</td>\n",
       "    </tr>\n",
       "    <tr>\n",
       "      <th>...</th>\n",
       "      <td>...</td>\n",
       "      <td>...</td>\n",
       "      <td>...</td>\n",
       "      <td>...</td>\n",
       "      <td>...</td>\n",
       "      <td>...</td>\n",
       "      <td>...</td>\n",
       "      <td>...</td>\n",
       "      <td>...</td>\n",
       "      <td>...</td>\n",
       "      <td>...</td>\n",
       "    </tr>\n",
       "    <tr>\n",
       "      <th>45711</th>\n",
       "      <td>Zillah 002</td>\n",
       "      <td>31356</td>\n",
       "      <td>Valid</td>\n",
       "      <td>Eucrite</td>\n",
       "      <td>172.0</td>\n",
       "      <td>Found</td>\n",
       "      <td>01/01/1990 12:00:00 AM</td>\n",
       "      <td>29.03700</td>\n",
       "      <td>17.01850</td>\n",
       "      <td>(29.037, 17.0185)</td>\n",
       "      <td>13 - 32</td>\n",
       "    </tr>\n",
       "    <tr>\n",
       "      <th>45712</th>\n",
       "      <td>Zinder</td>\n",
       "      <td>30409</td>\n",
       "      <td>Valid</td>\n",
       "      <td>Pallasite, ungrouped</td>\n",
       "      <td>46.0</td>\n",
       "      <td>Found</td>\n",
       "      <td>01/01/1999 12:00:00 AM</td>\n",
       "      <td>13.78333</td>\n",
       "      <td>8.96667</td>\n",
       "      <td>(13.78333, 8.96667)</td>\n",
       "      <td>13 - 32</td>\n",
       "    </tr>\n",
       "    <tr>\n",
       "      <th>45713</th>\n",
       "      <td>Zlin</td>\n",
       "      <td>30410</td>\n",
       "      <td>Valid</td>\n",
       "      <td>H4</td>\n",
       "      <td>3.3</td>\n",
       "      <td>Found</td>\n",
       "      <td>01/01/1939 12:00:00 AM</td>\n",
       "      <td>49.25000</td>\n",
       "      <td>17.66667</td>\n",
       "      <td>(49.25, 17.66667)</td>\n",
       "      <td>33 - 52</td>\n",
       "    </tr>\n",
       "    <tr>\n",
       "      <th>45714</th>\n",
       "      <td>Zubkovsky</td>\n",
       "      <td>31357</td>\n",
       "      <td>Valid</td>\n",
       "      <td>L6</td>\n",
       "      <td>2167.0</td>\n",
       "      <td>Found</td>\n",
       "      <td>01/01/2003 12:00:00 AM</td>\n",
       "      <td>49.78917</td>\n",
       "      <td>41.50460</td>\n",
       "      <td>(49.78917, 41.5046)</td>\n",
       "      <td>33 - 52</td>\n",
       "    </tr>\n",
       "    <tr>\n",
       "      <th>45715</th>\n",
       "      <td>Zulu Queen</td>\n",
       "      <td>30414</td>\n",
       "      <td>Valid</td>\n",
       "      <td>L3.7</td>\n",
       "      <td>200.0</td>\n",
       "      <td>Found</td>\n",
       "      <td>01/01/1976 12:00:00 AM</td>\n",
       "      <td>33.98333</td>\n",
       "      <td>-115.68333</td>\n",
       "      <td>(33.98333, -115.68333)</td>\n",
       "      <td>33 - 52</td>\n",
       "    </tr>\n",
       "  </tbody>\n",
       "</table>\n",
       "<p>45716 rows × 11 columns</p>\n",
       "</div>"
      ],
      "text/plain": [
       "             name     id nametype              recclass  mass (g)   fall  \\\n",
       "0          Aachen      1    Valid                    L5      21.0   Fell   \n",
       "1          Aarhus      2    Valid                    H6     720.0   Fell   \n",
       "2            Abee      6    Valid                   EH4  107000.0   Fell   \n",
       "3        Acapulco     10    Valid           Acapulcoite    1914.0   Fell   \n",
       "4         Achiras    370    Valid                    L6     780.0   Fell   \n",
       "...           ...    ...      ...                   ...       ...    ...   \n",
       "45711  Zillah 002  31356    Valid               Eucrite     172.0  Found   \n",
       "45712      Zinder  30409    Valid  Pallasite, ungrouped      46.0  Found   \n",
       "45713        Zlin  30410    Valid                    H4       3.3  Found   \n",
       "45714   Zubkovsky  31357    Valid                    L6    2167.0  Found   \n",
       "45715  Zulu Queen  30414    Valid                  L3.7     200.0  Found   \n",
       "\n",
       "                         year    reclat    reclong             GeoLocation  \\\n",
       "0      01/01/1880 12:00:00 AM  50.77500    6.08333       (50.775, 6.08333)   \n",
       "1      01/01/1951 12:00:00 AM  56.18333   10.23333    (56.18333, 10.23333)   \n",
       "2      01/01/1952 12:00:00 AM  54.21667 -113.00000      (54.21667, -113.0)   \n",
       "3      01/01/1976 12:00:00 AM  16.88333  -99.90000       (16.88333, -99.9)   \n",
       "4      01/01/1902 12:00:00 AM -33.16667  -64.95000     (-33.16667, -64.95)   \n",
       "...                       ...       ...        ...                     ...   \n",
       "45711  01/01/1990 12:00:00 AM  29.03700   17.01850       (29.037, 17.0185)   \n",
       "45712  01/01/1999 12:00:00 AM  13.78333    8.96667     (13.78333, 8.96667)   \n",
       "45713  01/01/1939 12:00:00 AM  49.25000   17.66667       (49.25, 17.66667)   \n",
       "45714  01/01/2003 12:00:00 AM  49.78917   41.50460     (49.78917, 41.5046)   \n",
       "45715  01/01/1976 12:00:00 AM  33.98333 -115.68333  (33.98333, -115.68333)   \n",
       "\n",
       "      reclat_group  \n",
       "0          33 - 52  \n",
       "1          53 - 72  \n",
       "2          53 - 72  \n",
       "3          13 - 32  \n",
       "4        -47 - -28  \n",
       "...            ...  \n",
       "45711      13 - 32  \n",
       "45712      13 - 32  \n",
       "45713      33 - 52  \n",
       "45714      33 - 52  \n",
       "45715      33 - 52  \n",
       "\n",
       "[45716 rows x 11 columns]"
      ]
     },
     "execution_count": 47,
     "metadata": {},
     "output_type": "execute_result"
    }
   ],
   "source": [
    "labels = [f\"{i} - {i+19}\" for i in range(-87, 81, 20)[:-1]]  # Adjusted range to match the number of bins\n",
    "mets[\"reclat_group\"] = pd.cut(mets['reclat'], range(-87, 82, 20), right=False, labels=labels)\n",
    "mets"
   ]
  },
  {
   "cell_type": "markdown",
   "metadata": {},
   "source": [
    "`pd.crosstab()` is equivalent to R's `table()`"
   ]
  },
  {
   "cell_type": "code",
   "execution_count": null,
   "metadata": {},
   "outputs": [],
   "source": []
  },
  {
   "cell_type": "markdown",
   "metadata": {},
   "source": [
    "# References\n",
    "1. Python4DS textbook: https://aeturrell.github.io/python4DS/welcome.html"
   ]
  }
 ],
 "metadata": {
  "kernelspec": {
   "display_name": "general",
   "language": "python",
   "name": "python3"
  },
  "language_info": {
   "codemirror_mode": {
    "name": "ipython",
    "version": 3
   },
   "file_extension": ".py",
   "mimetype": "text/x-python",
   "name": "python",
   "nbconvert_exporter": "python",
   "pygments_lexer": "ipython3",
   "version": "3.12.7"
  }
 },
 "nbformat": 4,
 "nbformat_minor": 2
}
