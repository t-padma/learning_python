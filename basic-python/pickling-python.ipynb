{
 "cells": [
  {
   "cell_type": "code",
   "execution_count": 12,
   "metadata": {},
   "outputs": [
    {
     "data": {
      "text/plain": [
       "'c:\\\\Users\\\\tpr16\\\\OneDrive - The Pennsylvania State University\\\\TDA\\\\Neuro_stat_papers\\\\Mapper Algorithm\\\\fmri-tensor-based-analysis\\\\basic python'"
      ]
     },
     "execution_count": 12,
     "metadata": {},
     "output_type": "execute_result"
    }
   ],
   "source": [
    "import pickle\n",
    "import os\n",
    "import numpy as np\n",
    "\n",
    "os.getcwd()"
   ]
  },
  {
   "cell_type": "markdown",
   "metadata": {},
   "source": [
    "## Serialization and Deserialization of Python objects.\n",
    "\n",
    "References: \n",
    "\n",
    "1. (Main) https://www.datacamp.com/tutorial/pickle-python-tutorial\n",
    "\n",
    "2. https://machinelearningmastery.com/a-gentle-introduction-to-serialization-for-python/\n",
    "\n",
    "In Python, we work with high-level data structures such as lists, tuples, and sets. However, when we want to store these objects in memory, they need to be converted into a sequence of bytes that the computer can understand. This process is called **serialization (pickling)**.\n",
    "\n",
    "The next time we want to access the same data structure, this sequence of bytes must be converted back into the initial high-level object in a process known as **deserialization (unpickling)**.\n",
    "\n",
    "- `pickle` and `h5py` are two common serialization libraries in Python to serialize data objects like dictionaries and Tensorflow models in Python for storage and transmission.\n",
    "- We focus on `pickle` library.\n",
    "\n",
    "The pickle module is part of the Python standard library and implements methods to serialize and deserialize Python objects."
   ]
  },
  {
   "cell_type": "code",
   "execution_count": 2,
   "metadata": {},
   "outputs": [
    {
     "data": {
      "text/plain": [
       "dict"
      ]
     },
     "execution_count": 2,
     "metadata": {},
     "output_type": "execute_result"
    }
   ],
   "source": [
    "# understanding importance of serialization\n",
    "# define a nested dictionary\n",
    "students = {\n",
    "  'Student 1': {\n",
    "        'Name': \"Alice\", 'Age' :10, 'Grade':4,\n",
    "    },\n",
    "   \n",
    "    'Student 2': {\n",
    "        'Name':'Bob', 'Age':11, 'Grade':5\n",
    "    },\n",
    "   \n",
    "    'Student 3': {\n",
    "        'Name':'Elena', 'Age':14, 'Grade':8\n",
    "    }\n",
    "}\n",
    "\n",
    "# dictionary type object\n",
    "type(students)"
   ]
  },
  {
   "cell_type": "code",
   "execution_count": 3,
   "metadata": {},
   "outputs": [],
   "source": [
    "with open('student_info.txt','w') as data:\n",
    "      data.write(str(students))"
   ]
  },
  {
   "cell_type": "markdown",
   "metadata": {},
   "source": [
    "Notice that since we can only write string objects to text files, we have converted the dictionary to a string using the `str()`function. This means that the original state of our dictionary is lost."
   ]
  },
  {
   "cell_type": "code",
   "execution_count": null,
   "metadata": {},
   "outputs": [],
   "source": [
    "with open(\"student_info.txt\", 'r') as f:\n",
    "    print(f.read())"
   ]
  },
  {
   "cell_type": "code",
   "execution_count": 4,
   "metadata": {},
   "outputs": [
    {
     "name": "stdout",
     "output_type": "stream",
     "text": [
      "{'Student 1': {'Name': 'Alice', 'Age': 10, 'Grade': 4}, 'Student 2': {'Name': 'Bob', 'Age': 11, 'Grade': 5}, 'Student 3': {'Name': 'Elena', 'Age': 14, 'Grade': 8}}\n"
     ]
    },
    {
     "data": {
      "text/plain": [
       "str"
      ]
     },
     "execution_count": 4,
     "metadata": {},
     "output_type": "execute_result"
    }
   ],
   "source": [
    "with open(\"student_info.txt\", 'r') as f:\n",
    "    for students in f:\n",
    "        print(students)\n",
    "\n",
    "\n",
    "type(students)"
   ]
  },
  {
   "cell_type": "markdown",
   "metadata": {},
   "source": [
    "The nested dictionary is now being printed as a string, and will return an error when we try to access its keys or values. This is where serialization comes in. When dealing with more complex data types like dictionaries, data frames, and nested lists, serialization allows the user to preserve the object’s original state without losing any relevant information.\n",
    "\n",
    "Python’s Pickle module is a popular format used to serialize and deserialize data types. This format is native to Python, meaning Pickle objects cannot be loaded using any other programming language. So one may struggle to deserialize pickled objects when using a different language."
   ]
  },
  {
   "cell_type": "markdown",
   "metadata": {},
   "source": [
    "## Serialization: Python object to byte object\n",
    "The Pickle `pickle.dump()` and `pickle.dumps()` functions are used to serialize an object. The only difference between them is that `dump()` writes the data to a file, while `dumps()` represents it as a byte object. \n",
    "- `pickle.dump(obj, file, protocol=None, *, fix_imports=True, buffer_callback=None)`\n",
    "- `pickle.dumps(obj, protocol=None, *, fix_imports=True, buffer_callback=None)`"
   ]
  },
  {
   "cell_type": "code",
   "execution_count": 8,
   "metadata": {},
   "outputs": [],
   "source": [
    "# Example 1: create simple list\n",
    "student_names = [\"Alice\", \"Bob\", \"Elena\", \"Jane\", \"Kyle\"]\n",
    "\n",
    "with open(\"student_file.pkl\", mode=\"wb\") as f: # open file to write in binary format\n",
    "    pickle.dump(obj=student_names, file=f)     # \"dump\" or serialize the list into the file student_file.pkl\n",
    "\n",
    "# We chose \"wb\" mode because we want to return a byte object "
   ]
  },
  {
   "cell_type": "markdown",
   "metadata": {},
   "source": [
    "## Deserialization: byte object to Python object\n",
    "Similarly, `pickle.load()` reads pickled objects from a file, whereas `pickle.loads()` deserializes them from a bytes-like object.\n",
    "- `pickle.load(file, *, fix_imports=True, encoding='ASCII', errors='strict', buffers=None)`\n",
    "- `pickle.loads(data, /, *, fix_imports=True, encoding=\"ASCII\", errors=\"strict\", buffers=None)`"
   ]
  },
  {
   "cell_type": "code",
   "execution_count": 11,
   "metadata": {},
   "outputs": [
    {
     "name": "stdout",
     "output_type": "stream",
     "text": [
      "['Alice', 'Bob', 'Elena', 'Jane', 'Kyle']\n",
      "<class 'list'>\n"
     ]
    }
   ],
   "source": [
    "# notice that the list type of the object is retained after deserialization\n",
    "\n",
    "with open(\"student_file.pkl\", \"rb\") as f:\n",
    "    student_names_loaded = pickle.load(f)  # deserialize the byte type object\n",
    "    print(student_names_loaded); print(type(student_names_loaded))"
   ]
  },
  {
   "cell_type": "markdown",
   "metadata": {},
   "source": [
    "### Example 2: using pandas DataFrame"
   ]
  },
  {
   "cell_type": "code",
   "execution_count": null,
   "metadata": {},
   "outputs": [],
   "source": []
  },
  {
   "cell_type": "markdown",
   "metadata": {},
   "source": [
    "## NumPy: Convert a given array into bytes, and load it as array\n",
    "* This problem involves writing a NumPy program to convert a given array into a bytes object and then load it back as an array\n",
    "* The task requires using NumPy's `tobytes()` method to serialize the array into a bytes object and the `frombuffer()` method to deserialize the bytes back into an array.\n",
    "\n",
    "Ref: https://www.askpython.com/python-modules/gzip-module-in-python"
   ]
  },
  {
   "cell_type": "code",
   "execution_count": 18,
   "metadata": {},
   "outputs": [
    {
     "name": "stdout",
     "output_type": "stream",
     "text": [
      "Original array:\n",
      "[1 2 3 4 5 6]\n",
      "<class 'numpy.ndarray'>\n"
     ]
    }
   ],
   "source": [
    "a = np.array([1, 2, 3, 4, 5, 6])\n",
    "print(\"Original array:\")\n",
    "print(a); print(type(a))"
   ]
  },
  {
   "cell_type": "code",
   "execution_count": 27,
   "metadata": {},
   "outputs": [
    {
     "data": {
      "text/plain": [
       "dtype('int32')"
      ]
     },
     "execution_count": 27,
     "metadata": {},
     "output_type": "execute_result"
    }
   ],
   "source": [
    "# Converting the array 'a' to bytes using a.tobytes() method and storing it in 'a_bytes'\n",
    "a_bytes = a.tobytes()\n",
    "a.dtype"
   ]
  },
  {
   "cell_type": "code",
   "execution_count": 15,
   "metadata": {},
   "outputs": [],
   "source": [
    "# Creating a new NumPy array 'a2' by reading from 'a_bytes' using np.frombuffer()\n",
    "# Specifying the datatype of 'a2' as the same as 'a' using a.dtype\n",
    "a2 = np.frombuffer(buffer=a_bytes, dtype=a.dtype)"
   ]
  },
  {
   "cell_type": "code",
   "execution_count": 17,
   "metadata": {},
   "outputs": [
    {
     "name": "stdout",
     "output_type": "stream",
     "text": [
      "After loading, content of the text file:\n",
      "[1 2 3 4 5 6]\n",
      "<class 'numpy.ndarray'>\n"
     ]
    }
   ],
   "source": [
    "# Printing a message indicating the content of the array after loading from bytes\n",
    "print(\"After loading, content of the text file:\")\n",
    "print(a2); print(type(a2))"
   ]
  },
  {
   "cell_type": "code",
   "execution_count": 19,
   "metadata": {},
   "outputs": [
    {
     "name": "stdout",
     "output_type": "stream",
     "text": [
      "True\n"
     ]
    }
   ],
   "source": [
    "# Checking if both arrays 'a' and 'a2' are equal using np.array_equal()\n",
    "print(np.array_equal(a, a2)) "
   ]
  },
  {
   "cell_type": "code",
   "execution_count": 29,
   "metadata": {},
   "outputs": [
    {
     "name": "stdout",
     "output_type": "stream",
     "text": [
      "[2 3 4 5 6]\n"
     ]
    }
   ],
   "source": [
    "a2_new = np.frombuffer(buffer=a_bytes, dtype=a.dtype, offset=4)\n",
    "print(a2_new)"
   ]
  }
 ],
 "metadata": {
  "kernelspec": {
   "display_name": "base",
   "language": "python",
   "name": "python3"
  },
  "language_info": {
   "codemirror_mode": {
    "name": "ipython",
    "version": 3
   },
   "file_extension": ".py",
   "mimetype": "text/x-python",
   "name": "python",
   "nbconvert_exporter": "python",
   "pygments_lexer": "ipython3",
   "version": "3.11.5"
  }
 },
 "nbformat": 4,
 "nbformat_minor": 2
}
