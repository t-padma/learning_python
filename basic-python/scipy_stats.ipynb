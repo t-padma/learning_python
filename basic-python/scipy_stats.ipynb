{
 "cells": [
  {
   "cell_type": "code",
   "execution_count": 1,
   "metadata": {},
   "outputs": [],
   "source": [
    "import scipy as sp \n",
    "import numpy as np"
   ]
  },
  {
   "cell_type": "markdown",
   "metadata": {},
   "source": [
    "The `scipy.stats` module comes with a number of distributions which are useful for statistical analysis. \n",
    "\n",
    "Random variables associated with different distributions can be \"frozen\" to the classes `rv_continuous` or `rv_discrete`. Such an object has a list of general method calls that are useful as well."
   ]
  },
  {
   "cell_type": "code",
   "execution_count": 2,
   "metadata": {},
   "outputs": [
    {
     "name": "stdout",
     "output_type": "stream",
     "text": [
      "<class 'scipy.stats._distn_infrastructure.rv_continuous_frozen'>\n"
     ]
    }
   ],
   "source": [
    "beta_rv = sp.stats.beta(a = 1, b = 3)\n",
    "print(type(beta_rv))"
   ]
  },
  {
   "cell_type": "code",
   "execution_count": 4,
   "metadata": {},
   "outputs": [
    {
     "name": "stdout",
     "output_type": "stream",
     "text": [
      "[0.33328026 0.06987073 0.20605026 0.11609476 0.0560467  0.31890089\n",
      " 0.67912234 0.19065498 0.36901873 0.69441235]\n"
     ]
    },
    {
     "data": {
      "text/plain": [
       "array([3.        , 2.37037037, 1.81481481, 1.33333333, 0.92592593,\n",
       "       0.59259259, 0.33333333, 0.14814815, 0.03703704, 0.        ])"
      ]
     },
     "execution_count": 4,
     "metadata": {},
     "output_type": "execute_result"
    }
   ],
   "source": [
    "# method calls associated with rv_continuous\n",
    "\n",
    "# random draws\n",
    "print(beta_rv.rvs(size=10))\n",
    "\n",
    "# evaluate pdf\n",
    "p = np.linspace(start=0, stop=1, num=10)\n",
    "beta_rv.pdf(x = p)"
   ]
  }
 ],
 "metadata": {
  "kernelspec": {
   "display_name": "general",
   "language": "python",
   "name": "python3"
  },
  "language_info": {
   "codemirror_mode": {
    "name": "ipython",
    "version": 3
   },
   "file_extension": ".py",
   "mimetype": "text/x-python",
   "name": "python",
   "nbconvert_exporter": "python",
   "pygments_lexer": "ipython3",
   "version": "3.12.7"
  }
 },
 "nbformat": 4,
 "nbformat_minor": 2
}
