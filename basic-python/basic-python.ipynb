{
 "cells": [
  {
   "cell_type": "code",
   "execution_count": 4,
   "metadata": {},
   "outputs": [],
   "source": [
    "import numpy as np\n",
    "import os\n",
    "import pickle\n",
    "import scipy as sp"
   ]
  },
  {
   "cell_type": "markdown",
   "metadata": {},
   "source": [
    "Lists, tuples and arrays: https://physics.nyu.edu/pine/pymanual/html/chap3/chap3_arrays.html"
   ]
  },
  {
   "cell_type": "code",
   "execution_count": 4,
   "metadata": {},
   "outputs": [
    {
     "data": {
      "text/plain": [
       "'I am Padma, about to turn 27'"
      ]
     },
     "execution_count": 4,
     "metadata": {},
     "output_type": "execute_result"
    }
   ],
   "source": [
    "# concatenating strings with +\n",
    "# cannot concatenate string type and integer type\n",
    "a = \"I am Padma,\"\n",
    "b = \"about to turn\"\n",
    "c = \"27\"\n",
    "a + \" \" + b + \" \" + c "
   ]
  },
  {
   "cell_type": "code",
   "execution_count": 17,
   "metadata": {},
   "outputs": [
    {
     "data": {
      "text/plain": [
       "'horse'"
      ]
     },
     "execution_count": 17,
     "metadata": {},
     "output_type": "execute_result"
    }
   ],
   "source": [
    "# lists are defined as [ item1, item2, ...]\n",
    "b = [5., \"girl\", 2+8j, \"horse\", 21]\n",
    "\n",
    "b[0] # access first element\n",
    "b[2] # \"j\" denotes imaginary number\n",
    "\n",
    "b[-1] # first element starting from the last\n",
    "b[-2] # last but one\n"
   ]
  },
  {
   "cell_type": "code",
   "execution_count": 18,
   "metadata": {},
   "outputs": [
    {
     "data": {
      "text/plain": [
       "[8.141592653589793, 'girl', (2+8j), \"horse's stable\", 21]"
      ]
     },
     "execution_count": 18,
     "metadata": {},
     "output_type": "execute_result"
    }
   ],
   "source": [
    "# modifying contents of list\n",
    "b[-2] = b[-2] + \"'s stable\"\n",
    "b[0] = b[0] + np.pi # pi can be accessed using NumPy, math or SciPy modules\n",
    "b\n",
    "\n",
    "# note: Run the concatenation code once, otherwise, it will get concatenated several times\n"
   ]
  },
  {
   "cell_type": "code",
   "execution_count": 23,
   "metadata": {},
   "outputs": [
    {
     "name": "stdout",
     "output_type": "stream",
     "text": [
      "[1, 6, 0, 9, 8.141592653589793, 'girl', (2+8j), \"horse's stable\", 21]\n",
      "[1, 6, 0, 9, 2, 3, 4, 5]\n"
     ]
    }
   ],
   "source": [
    "# list1 + list2 concatenates the lists, doesn't add element-wise\n",
    "a = [1,6,0,9]\n",
    "c = [2,3,4,5]\n",
    "print(a + b) ; print(a + c)\n"
   ]
  },
  {
   "cell_type": "code",
   "execution_count": 29,
   "metadata": {},
   "outputs": [
    {
     "data": {
      "text/plain": [
       "[8.141592653589793, 'girl', (2+8j), \"horse's stable\", 21]"
      ]
     },
     "execution_count": 29,
     "metadata": {},
     "output_type": "execute_result"
    }
   ],
   "source": [
    "b"
   ]
  },
  {
   "cell_type": "code",
   "execution_count": 28,
   "metadata": {},
   "outputs": [
    {
     "data": {
      "text/plain": [
       "[8.141592653589793, 'girl', (2+8j)]"
      ]
     },
     "execution_count": 28,
     "metadata": {},
     "output_type": "execute_result"
    }
   ],
   "source": [
    "# Slicing lists\n",
    "# list_name[i:j] outputs a list of size j-i\n",
    "len(b) # length of list\n",
    "b[0:3] #  b[0], b[1], b[2] "
   ]
  },
  {
   "cell_type": "code",
   "execution_count": 34,
   "metadata": {},
   "outputs": [
    {
     "data": {
      "text/plain": [
       "['girl', (2+8j), \"horse's stable\"]"
      ]
     },
     "execution_count": 34,
     "metadata": {},
     "output_type": "execute_result"
    }
   ],
   "source": [
    "b[2:3] # just b[2]\n",
    "b[2:] #  b[2] till the end\n",
    "b[:3]  # beginning to b[2]\n",
    "b[:] # print all elements\n",
    "b[1:-1] # b[1] to the last but one element"
   ]
  },
  {
   "cell_type": "markdown",
   "metadata": {},
   "source": [
    "Python range() function : https://cs.stanford.edu/people/nick/py/python-range.html"
   ]
  },
  {
   "cell_type": "code",
   "execution_count": 41,
   "metadata": {},
   "outputs": [
    {
     "data": {
      "text/plain": [
       "range(0, 10)"
      ]
     },
     "execution_count": 41,
     "metadata": {},
     "output_type": "execute_result"
    }
   ],
   "source": [
    "# creating and augmenting lists\n",
    "# list_name = range(start, stop, step_size)\n",
    "# range(n) returns n digits from 0 to n-1\n",
    "\n",
    "a = range(10)\n",
    "a # doesn't output the seq of numbers "
   ]
  },
  {
   "cell_type": "code",
   "execution_count": 43,
   "metadata": {},
   "outputs": [
    {
     "data": {
      "text/plain": [
       "[0, 1, 2, 3, 4, 5, 6, 7, 8, 9]"
      ]
     },
     "execution_count": 43,
     "metadata": {},
     "output_type": "execute_result"
    }
   ],
   "source": [
    "list(range(10)) # use list to get a list printed"
   ]
  },
  {
   "cell_type": "code",
   "execution_count": 46,
   "metadata": {},
   "outputs": [
    {
     "name": "stdout",
     "output_type": "stream",
     "text": [
      "0\n",
      "1\n",
      "2\n",
      "3\n",
      "4\n",
      "5\n",
      "6\n",
      "7\n",
      "8\n",
      "9\n"
     ]
    },
    {
     "data": {
      "text/plain": [
       "[]"
      ]
     },
     "execution_count": 46,
     "metadata": {},
     "output_type": "execute_result"
    }
   ],
   "source": [
    "# prints integers from 0 to 9\n",
    "for i in range(10):\n",
    "    print(i)"
   ]
  },
  {
   "cell_type": "code",
   "execution_count": 47,
   "metadata": {},
   "outputs": [
    {
     "data": {
      "text/plain": [
       "[]"
      ]
     },
     "execution_count": 47,
     "metadata": {},
     "output_type": "execute_result"
    }
   ],
   "source": [
    "list(range(0))  # returns nothing\n",
    "list(range(-5)) # returns nothing for any n <=0"
   ]
  },
  {
   "cell_type": "code",
   "execution_count": 52,
   "metadata": {},
   "outputs": [
    {
     "name": "stdout",
     "output_type": "stream",
     "text": [
      "[0, 1, 2, 3, 4, 5, 6, 7, 8, 9]\n",
      "[9, 8, 7, 6, 5, 4, 3, 2, 1, 0]\n"
     ]
    },
    {
     "data": {
      "text/plain": [
       "(None, None)"
      ]
     },
     "execution_count": 52,
     "metadata": {},
     "output_type": "execute_result"
    }
   ],
   "source": [
    "# can reverse order of range of numbers using  reversed()\n",
    "a = range(10) \n",
    "a_reversed = reversed(range(10))\n",
    "print(list(a)), print(list(a_reversed))"
   ]
  },
  {
   "cell_type": "code",
   "execution_count": 55,
   "metadata": {},
   "outputs": [
    {
     "data": {
      "text/plain": [
       "['n', 'o', 'h', 't', 'y', 'p']"
      ]
     },
     "execution_count": 55,
     "metadata": {},
     "output_type": "execute_result"
    }
   ],
   "source": [
    "# works on strings as well\n",
    "b = \"python\"\n",
    "list(reversed(b))"
   ]
  },
  {
   "cell_type": "code",
   "execution_count": 56,
   "metadata": {},
   "outputs": [
    {
     "data": {
      "text/plain": [
       "[3, 4, 5, 6, 7]"
      ]
     },
     "execution_count": 56,
     "metadata": {},
     "output_type": "execute_result"
    }
   ],
   "source": [
    "list(range(3,8)) # list of size 8-3 = 5"
   ]
  },
  {
   "cell_type": "code",
   "execution_count": 58,
   "metadata": {},
   "outputs": [
    {
     "data": {
      "text/plain": [
       "[2, 4, 6, 8, 10, 12]"
      ]
     },
     "execution_count": 58,
     "metadata": {},
     "output_type": "execute_result"
    }
   ],
   "source": [
    "# AP with positive common diff \n",
    "# increasing seq\n",
    "list(range(2,14,2)) # AP sequence with common diff = 2; a_0 = 2 and a_end = 12"
   ]
  },
  {
   "cell_type": "code",
   "execution_count": 61,
   "metadata": {},
   "outputs": [
    {
     "data": {
      "text/plain": [
       "[14, 12, 10, 8, 6, 4, 2]"
      ]
     },
     "execution_count": 61,
     "metadata": {},
     "output_type": "execute_result"
    }
   ],
   "source": [
    "# AP with negative common diff \n",
    "# decreasing seq\n",
    "list(range(14,0,-2))  # start at 14, reduce by 2 and end seq at 2"
   ]
  },
  {
   "cell_type": "code",
   "execution_count": 63,
   "metadata": {},
   "outputs": [
    {
     "data": {
      "text/plain": [
       "[1, 4, 7]"
      ]
     },
     "execution_count": 63,
     "metadata": {},
     "output_type": "execute_result"
    }
   ],
   "source": [
    "a = range(1,10,3)\n",
    "list(a)"
   ]
  },
  {
   "cell_type": "code",
   "execution_count": 65,
   "metadata": {},
   "outputs": [
    {
     "name": "stdout",
     "output_type": "stream",
     "text": [
      "[99, 100, 1, 4, 7]\n",
      "[1, 4, 7, 99, 100]\n"
     ]
    }
   ],
   "source": [
    "# use + to add list [99, 100] to list a\n",
    "a1 = [99,100] + list(a)\n",
    "a2 = list(a) + [99,100]\n",
    "print(a1); print(a2)"
   ]
  },
  {
   "cell_type": "code",
   "execution_count": 66,
   "metadata": {},
   "outputs": [
    {
     "data": {
      "text/plain": [
       "[99, 100, 1, 'add here', 4, 7]"
      ]
     },
     "execution_count": 66,
     "metadata": {},
     "output_type": "execute_result"
    }
   ],
   "source": [
    "# insert elements in-between\n",
    "a1[:3] + [\"add here\"] + a1[3:]"
   ]
  },
  {
   "cell_type": "code",
   "execution_count": 73,
   "metadata": {},
   "outputs": [
    {
     "data": {
      "text/plain": [
       "1"
      ]
     },
     "execution_count": 73,
     "metadata": {},
     "output_type": "execute_result"
    }
   ],
   "source": [
    "# tuples are lists that are immutable.\n",
    "# That is, once defined, the individual elements of a tuple cannot be changed.\n",
    "# defined using ()\n",
    "a = (1,2,3,4)\n",
    "a[0] # access 0th element"
   ]
  },
  {
   "cell_type": "code",
   "execution_count": null,
   "metadata": {},
   "outputs": [],
   "source": [
    "# a[0] = a[0] + 2 # gives error\n",
    "#a = (-3) + a + (9) # gives error, can't concatenate like lists"
   ]
  },
  {
   "cell_type": "markdown",
   "metadata": {},
   "source": [
    "Multi-dimensional lists and tuples"
   ]
  },
  {
   "cell_type": "code",
   "execution_count": 83,
   "metadata": {},
   "outputs": [
    {
     "data": {
      "text/plain": [
       "5"
      ]
     },
     "execution_count": 83,
     "metadata": {},
     "output_type": "execute_result"
    }
   ],
   "source": [
    "a = [[3, 9], [8, 5], [11, 1]]\n",
    "a[0] # just the list [3,9], NOT [[3,9]]\n",
    "a[0:2] # list containg [3,9] and [8,5]\n",
    "a[0][1] # 1st element of 0th list element\n",
    "\n",
    "# same holds for tuples\n",
    "b = ((3,4,\"padma\"), (1,2,4,5))\n",
    "b[0]\n",
    "b[1][3]"
   ]
  },
  {
   "cell_type": "markdown",
   "metadata": {},
   "source": [
    "NumPy array is similar to a list but where all the elements of the list are of the same type. \n",
    "\n",
    "The elements of a NumPy array are usually numbers, but can also be boolians, strings, or other objects. \n",
    "\n",
    "When the elements are numbers, **they must all be of the same type**. For example, they might be all integers or all floating point numbers.\n",
    "\n",
    "**NumPy has different ways of creating arrays**\n",
    "1. `np.array()`\n",
    "2. `np.linspace()` and `np.logspace()`\n",
    "3. `np.arange()`          \n",
    " *Note that this is NOT arrange(), it is arange()*\n",
    "4. `zeros()` and `ones()`"
   ]
  },
  {
   "cell_type": "code",
   "execution_count": 120,
   "metadata": {},
   "outputs": [
    {
     "data": {
      "text/plain": [
       "array([  0.,   0.,   1.,   4.,   7.,  16.,  31.,  64., 127.])"
      ]
     },
     "execution_count": 120,
     "metadata": {},
     "output_type": "execute_result"
    }
   ],
   "source": [
    "# converting list to array using np.array()\n",
    "a = [0, 0, 1, 4, 7, 16, 31, 64, 127]\n",
    "b = np.array(a)\n",
    "b # integer array\n",
    "\n",
    "# np.array() automatically promotes all of the numbers to the type of the most general entry in the list\n",
    "a[2] = 1.0\n",
    "b1 = np.array(a)\n",
    "b1 # floating point array"
   ]
  },
  {
   "cell_type": "code",
   "execution_count": 100,
   "metadata": {},
   "outputs": [
    {
     "data": {
      "text/plain": [
       "array([ 0.   ,  1.667,  3.333,  5.   ,  6.667,  8.333, 10.   ])"
      ]
     },
     "execution_count": 100,
     "metadata": {},
     "output_type": "execute_result"
    }
   ],
   "source": [
    "# linspace(start, stop, N)\n",
    "# to create N evenly spaced numbers between start value and stop values. (both inclusive)\n",
    "\n",
    "%precision 3 # round off upto three places\n",
    "np.linspace(0,10, 7)\n",
    "\n",
    "# 7 evenly spaced points b/w 0, 10 (including 0 and 10)"
   ]
  },
  {
   "cell_type": "code",
   "execution_count": 101,
   "metadata": {},
   "outputs": [
    {
     "data": {
      "text/plain": [
       "array([   1.   ,    3.981,   15.849,   63.096,  251.189, 1000.   ])"
      ]
     },
     "execution_count": 101,
     "metadata": {},
     "output_type": "execute_result"
    }
   ],
   "source": [
    "# logspace(start, stop, N)\n",
    "# to create N evenly spaced numbers between 10^start and 10^stop values\n",
    "\n",
    "np.logspace(0,3,6)\n",
    "\n",
    "# 6 evenly spaced numbers b/w 10^0 and 10^3 i.e. 1 and 1000 "
   ]
  },
  {
   "cell_type": "code",
   "execution_count": 112,
   "metadata": {},
   "outputs": [
    {
     "data": {
      "text/plain": [
       "array([0. , 1.5, 3. , 4.5, 6. , 7.5, 9. ])"
      ]
     },
     "execution_count": 112,
     "metadata": {},
     "output_type": "execute_result"
    }
   ],
   "source": [
    "# np.arange(start, stop, step)\n",
    "# similar to range() syntax, unlike range(), the arange() function can generate floating point arrays\n",
    "\n",
    "np.arange(0, 10, 2) # integer array\n",
    "np.arange(0.,10, 2) # floating point array\n",
    "np.arange(0, 10, 1.5) # floating point array"
   ]
  },
  {
   "cell_type": "code",
   "execution_count": 116,
   "metadata": {},
   "outputs": [
    {
     "data": {
      "text/plain": [
       "array([1, 1, 1, 1, 1, 1])"
      ]
     },
     "execution_count": 116,
     "metadata": {},
     "output_type": "execute_result"
    }
   ],
   "source": [
    "# special arrays containing only zeros or only ones\n",
    "# default output is floating point array\n",
    "\n",
    "np.zeros(4) # floating point\n",
    "np.ones(6) # floating point\n",
    "\n",
    "np.zeros(4, dtype=int) # integer array\n",
    "np.ones(6, dtype=int) # integer array"
   ]
  },
  {
   "cell_type": "markdown",
   "metadata": {},
   "source": [
    "Mathematical operations with arrays"
   ]
  },
  {
   "cell_type": "code",
   "execution_count": 135,
   "metadata": {},
   "outputs": [
    {
     "name": "stdout",
     "output_type": "stream",
     "text": [
      "[-1.    -0.333  0.333  1.     1.667  2.333  3.     3.667  4.333  5.   ]\n",
      "[-3. -1.  1.  3.  5.  7.  9. 11. 13. 15.]\n"
     ]
    },
    {
     "data": {
      "text/plain": [
       "array([-1.   , -0.333,  0.333,  1.   ,  1.667,  2.333,  3.   ,  3.667,\n",
       "        4.333,  5.   ])"
      ]
     },
     "execution_count": 135,
     "metadata": {},
     "output_type": "execute_result"
    }
   ],
   "source": [
    "# elementwise operations\n",
    "a = np.linspace(-1,5,10)\n",
    "print(a); print(a*3)\n",
    "\n",
    "a + 3 \n",
    "a**2 # element wise exponent\n",
    "np.sin(a)\n",
    "np.exp(a)\n",
    "np.log(np.exp(a))"
   ]
  },
  {
   "cell_type": "markdown",
   "metadata": {},
   "source": [
    "Operations not well defined return `nan` or `inf` or `-inf`"
   ]
  },
  {
   "cell_type": "code",
   "execution_count": 137,
   "metadata": {},
   "outputs": [
    {
     "name": "stderr",
     "output_type": "stream",
     "text": [
      "C:\\Users\\tpr16\\AppData\\Local\\Temp\\ipykernel_14788\\1482348099.py:1: RuntimeWarning: divide by zero encountered in log\n",
      "  np.log(0) # -inf\n",
      "C:\\Users\\tpr16\\AppData\\Local\\Temp\\ipykernel_14788\\1482348099.py:2: RuntimeWarning: invalid value encountered in log\n",
      "  np.log(-1)\n"
     ]
    },
    {
     "data": {
      "text/plain": [
       "nan"
      ]
     },
     "execution_count": 137,
     "metadata": {},
     "output_type": "execute_result"
    }
   ],
   "source": [
    "np.log(0) # -inf\n",
    "np.log(-1) # nan"
   ]
  },
  {
   "cell_type": "markdown",
   "metadata": {},
   "source": [
    "Arrays can also be added, subtracted, multiplied, and divided by each other on an element-by-element basis, provided the two arrays have the same size.\n",
    "\n",
    "These kinds of operations with arrays are called **vectorized operations** because the entire array, or “vector”, is processed as a unit. \n",
    "\n",
    "Vectorized operations are much faster than processing each element of arrays one by one."
   ]
  },
  {
   "cell_type": "code",
   "execution_count": 142,
   "metadata": {},
   "outputs": [
    {
     "data": {
      "text/plain": [
       "array([0.1  , 0.02 , 0.003])"
      ]
     },
     "execution_count": 142,
     "metadata": {},
     "output_type": "execute_result"
    }
   ],
   "source": [
    "a = np.array([1,2,3])\n",
    "b = np.array([10,100,1000])\n",
    "c = np.array([5,3,3])\n",
    "\n",
    "a + b # array([  11,  102, 1003])\n",
    "a*b # array([  10,  200, 3000])\n",
    "a**c # array([ 1,  8, 27])\n",
    "a/b # array([0.1  , 0.02 , 0.003])"
   ]
  },
  {
   "cell_type": "markdown",
   "metadata": {},
   "source": [
    "Multi-dimensional arrays and matrices\n",
    "\n",
    "So far, we only saw 1-d arrays. Matrices, for instance are 2-d arrays.\n",
    "\n",
    "The `np.array()` function converts a n-dim list into a n-dim array. The `np.array()` function makes all the elements have the same data type as the most complex entry.\n",
    "\n",
    "Major diff b/w NumPy arrays and lists is that the latter can be made up of different datatypes while the former cannot."
   ]
  },
  {
   "cell_type": "code",
   "execution_count": 157,
   "metadata": {},
   "outputs": [
    {
     "data": {
      "text/plain": [
       "array([[1, 1, 1, 1],\n",
       "       [1, 1, 1, 1],\n",
       "       [1, 1, 1, 1]])"
      ]
     },
     "execution_count": 157,
     "metadata": {},
     "output_type": "execute_result"
    }
   ],
   "source": [
    "# both np.ones((3,4)) and np.ones\n",
    "a = np.ones((3,4), dtype=int)  # matrix of ones of size 3x4\n",
    "a"
   ]
  },
  {
   "cell_type": "code",
   "execution_count": 161,
   "metadata": {},
   "outputs": [
    {
     "data": {
      "text/plain": [
       "array([[  1, 100,   3,   4],\n",
       "       [  1,   1,   1,   1],\n",
       "       [  1,   1,   1,   1]])"
      ]
     },
     "execution_count": 161,
     "metadata": {},
     "output_type": "execute_result"
    }
   ],
   "source": [
    "a[0] = (1,2,3,4)\n",
    "a[0][1] = 100\n",
    "a"
   ]
  },
  {
   "cell_type": "code",
   "execution_count": 162,
   "metadata": {},
   "outputs": [
    {
     "data": {
      "text/plain": [
       "array([[1., 0., 0.],\n",
       "       [0., 1., 0.],\n",
       "       [0., 0., 1.]])"
      ]
     },
     "execution_count": 162,
     "metadata": {},
     "output_type": "execute_result"
    }
   ],
   "source": [
    "np.eye(3) # 3x3 identity matrix"
   ]
  },
  {
   "cell_type": "markdown",
   "metadata": {},
   "source": [
    "Multidimensional arrays can be created from 1-d arrays using the `reshape()` function. "
   ]
  },
  {
   "cell_type": "code",
   "execution_count": 9,
   "metadata": {},
   "outputs": [
    {
     "data": {
      "text/plain": [
       "array([ 1,  2,  3,  4,  5,  6,  7,  8,  9, 10])"
      ]
     },
     "execution_count": 9,
     "metadata": {},
     "output_type": "execute_result"
    }
   ],
   "source": [
    "a = np.arange(1,11)\n",
    "a1 = np.reshape(a, (2,5))\n",
    "a2 = np.reshape(a, (5,2))\n",
    "a"
   ]
  },
  {
   "cell_type": "code",
   "execution_count": 176,
   "metadata": {},
   "outputs": [
    {
     "data": {
      "text/plain": [
       "3"
      ]
     },
     "execution_count": 176,
     "metadata": {},
     "output_type": "execute_result"
    }
   ],
   "source": [
    "# indexing is intuitive - two options\n",
    "a1[0,2] \n",
    "a1[0][2]"
   ]
  },
  {
   "cell_type": "markdown",
   "metadata": {},
   "source": [
    "Addition, subtraction, multiplication, division, and exponentiation all work with n-dim arrays just like with 1-d arrays, on an **element-by-element basis**.\n",
    "\n",
    "Functions also act on an element-to-element basis."
   ]
  },
  {
   "cell_type": "code",
   "execution_count": 179,
   "metadata": {},
   "outputs": [
    {
     "data": {
      "text/plain": [
       "array([[ 0.841,  0.909,  0.141, -0.757, -0.959],\n",
       "       [-0.279,  0.657,  0.989,  0.412, -0.544]])"
      ]
     },
     "execution_count": 179,
     "metadata": {},
     "output_type": "execute_result"
    }
   ],
   "source": [
    "a1/10\n",
    "a1**2\n",
    "np.sin(a1)"
   ]
  },
  {
   "cell_type": "markdown",
   "metadata": {},
   "source": [
    "We can multiply two `np.arrays`. However, **array multiplication is NOT matrix multiplication**.\n",
    "\n",
    "`np.array` multiplication is point-wise. So, it is well-defines when the arrays have the same size.\n",
    "\n",
    "Ususal matrix multiplication is done using `np.dot( , )`.\n",
    "\n",
    "Note: `np.array` function’s ``.T`` *transpose method* does matrix transpose"
   ]
  },
  {
   "cell_type": "code",
   "execution_count": 218,
   "metadata": {},
   "outputs": [
    {
     "data": {
      "text/plain": [
       "array([[0. , 0.2, 0.4, 0.6],\n",
       "       [0.8, 1. , 1.2, 1.4],\n",
       "       [1.6, 1.8, 2. , 2.2],\n",
       "       [2.4, 2.6, 2.8, 3. ],\n",
       "       [3.2, 3.4, 3.6, 3.8]])"
      ]
     },
     "execution_count": 218,
     "metadata": {},
     "output_type": "execute_result"
    }
   ],
   "source": [
    "a = np.arange(0,4,0.2)\n",
    "len(a) # 20\n",
    "a = np.reshape(a, (5,4)) # 5x4 matrix\n",
    "b = 10*np.ones([5,4])  # 5x4 matrix\n",
    "\n",
    "a # to get dimensions"
   ]
  },
  {
   "cell_type": "code",
   "execution_count": 204,
   "metadata": {},
   "outputs": [
    {
     "data": {
      "text/plain": [
       "array([[ 0.,  2.,  4.,  6.],\n",
       "       [ 8., 10., 12., 14.],\n",
       "       [16., 18., 20., 22.],\n",
       "       [24., 26., 28., 30.],\n",
       "       [32., 34., 36., 38.]])"
      ]
     },
     "execution_count": 204,
     "metadata": {},
     "output_type": "execute_result"
    }
   ],
   "source": [
    "a*b # pointwise multiplication"
   ]
  },
  {
   "cell_type": "code",
   "execution_count": 217,
   "metadata": {},
   "outputs": [
    {
     "data": {
      "text/plain": [
       "array([[0. , 0.8, 1.6, 2.4, 3.2],\n",
       "       [0.2, 1. , 1.8, 2.6, 3.4],\n",
       "       [0.4, 1.2, 2. , 2.8, 3.6],\n",
       "       [0.6, 1.4, 2.2, 3. , 3.8]])"
      ]
     },
     "execution_count": 217,
     "metadata": {},
     "output_type": "execute_result"
    }
   ],
   "source": [
    "# cannot rewrite a with at i.e. can't write a = a.T\n",
    "at = a.T # take the transpose\n",
    "at"
   ]
  },
  {
   "cell_type": "code",
   "execution_count": 219,
   "metadata": {},
   "outputs": [
    {
     "name": "stdout",
     "output_type": "stream",
     "text": [
      "(5, 4)\n",
      "(4, 5)\n"
     ]
    }
   ],
   "source": [
    "print(a.shape); print(at.shape)"
   ]
  },
  {
   "cell_type": "markdown",
   "metadata": {},
   "source": [
    "Use `np.where` to identify indices of an array that satisfy a given condition.\n",
    "\n",
    "Example: \n",
    "When `np.where` is used with a 2-dimensional array, it returns a tuple of arrays, each containing the indices of the elements that satisfy the condition along a specific axis. Specifically, the first array in the tuple contains the row indices, and the second array contains the column indices."
   ]
  },
  {
   "cell_type": "code",
   "execution_count": 7,
   "metadata": {},
   "outputs": [
    {
     "name": "stdout",
     "output_type": "stream",
     "text": [
      "(array([0, 0, 1]), array([0, 2, 1]))\n"
     ]
    },
    {
     "data": {
      "text/plain": [
       "1"
      ]
     },
     "execution_count": 7,
     "metadata": {},
     "output_type": "execute_result"
    }
   ],
   "source": [
    "arr = np.array([1,12,13,1,15,1])\n",
    "arr2 = np.array([[11, 2, 13], [0, 15, 1]])\n",
    "condition = lambda x:x>3\n",
    "\n",
    "indices = np.where(condition(arr2))\n",
    "print(indices)  # Output: (array([0, 0, 1]), array([0, 2, 1]))\n",
    "\n",
    "# subset the indices array the usual way\n",
    "indices[0][2]"
   ]
  },
  {
   "cell_type": "code",
   "execution_count": 5,
   "metadata": {},
   "outputs": [
    {
     "name": "stdout",
     "output_type": "stream",
     "text": [
      "[11 13 15]\n"
     ]
    }
   ],
   "source": [
    "# To get the actual elements that satisfy the condition:\n",
    "elements = arr2[indices]\n",
    "print(elements)  # Output: [11 13 15]"
   ]
  },
  {
   "cell_type": "markdown",
   "metadata": {},
   "source": [
    "Lists vs arrays\n",
    "- They are both multi-element data structures but lists are part of core Python while arrays are part of numerical computing package NumPy.\n",
    "- Elements of an array have to be of the same type while elements of a list can be of different types.\n",
    "- Look at the other two points mentioned in the link."
   ]
  },
  {
   "cell_type": "markdown",
   "metadata": {},
   "source": [
    "Dictionaries: A dictionary is also collection of Python objects, just like a list, but one that is indexed by strings or numbers (not necessarily integers and not in any particular order) or even tuples! \n",
    "\n",
    "Dictionaries have syntax: `{key1:value1, key2,value2, ...}`\n"
   ]
  },
  {
   "cell_type": "code",
   "execution_count": 4,
   "metadata": {},
   "outputs": [
    {
     "data": {
      "text/plain": [
       "764"
      ]
     },
     "execution_count": 4,
     "metadata": {},
     "output_type": "execute_result"
    }
   ],
   "source": [
    "a = {\"Emma\":309, \"Jacob\":582, \"Olivia\":764} # key is the person, value is their room num.\n",
    "a[\"Olivia\"] # to access value associated with the key \"Olivia\""
   ]
  },
  {
   "cell_type": "markdown",
   "metadata": {},
   "source": [
    "Dictionaries can be built up and added to in a straightforward manner"
   ]
  },
  {
   "cell_type": "code",
   "execution_count": 5,
   "metadata": {},
   "outputs": [
    {
     "name": "stdout",
     "output_type": "stream",
     "text": [
      "{'last name': 'Alberts', 'first name': 'Marie', 'birthday': 'January 27'}\n"
     ]
    }
   ],
   "source": [
    "d = {}\n",
    "d[\"last name\"] = \"Alberts\"\n",
    "d[\"first name\"] = \"Marie\"\n",
    "d[\"birthday\"] = \"January 27\"\n",
    "print(d)"
   ]
  },
  {
   "cell_type": "code",
   "execution_count": 3,
   "metadata": {},
   "outputs": [
    {
     "name": "stdout",
     "output_type": "stream",
     "text": [
      "dict_keys(['last name', 'first name', 'birthday'])\n",
      "dict_values(['Alberts', 'Marie', 'January 27'])\n"
     ]
    }
   ],
   "source": [
    "print(d.keys())\n",
    "print(d.values())"
   ]
  },
  {
   "cell_type": "code",
   "execution_count": null,
   "metadata": {},
   "outputs": [
    {
     "data": {
      "text/plain": [
       "False"
      ]
     },
     "execution_count": 4,
     "metadata": {},
     "output_type": "execute_result"
    }
   ],
   "source": [
    "# membership test of key \"Padma\" in dict d\n",
    "\"Padma\" in d"
   ]
  },
  {
   "cell_type": "markdown",
   "metadata": {},
   "source": [
    "Reading files into Python: \n",
    "\n",
    "https://guides.library.upenn.edu/penntdm/python/import_files\n",
    "\n",
    "https://www.geeksforgeeks.org/python-append-to-a-file/\n",
    "\n",
    "https://www3.ntu.edu.sg/home/ehchua/programming/webprogramming/Python_FileText.html"
   ]
  },
  {
   "cell_type": "code",
   "execution_count": 4,
   "metadata": {},
   "outputs": [
    {
     "data": {
      "text/plain": [
       "'c:\\\\Users\\\\tpr16\\\\OneDrive - The Pennsylvania State University\\\\TDA\\\\Neuro_stat_papers\\\\Mapper Algorithm\\\\fmri-tensor-based-analysis\\\\basic python'"
      ]
     },
     "execution_count": 4,
     "metadata": {},
     "output_type": "execute_result"
    }
   ],
   "source": [
    "os.chdir(\"basic python\")\n",
    "os.getcwd()"
   ]
  },
  {
   "cell_type": "code",
   "execution_count": 4,
   "metadata": {},
   "outputs": [
    {
     "data": {
      "text/plain": [
       "['basic-python.ipynb', 'sample-iris-data', 'sample_text_file.txt']"
      ]
     },
     "execution_count": 4,
     "metadata": {},
     "output_type": "execute_result"
    }
   ],
   "source": [
    "os.listdir() # list contents in the directory"
   ]
  },
  {
   "cell_type": "markdown",
   "metadata": {},
   "source": [
    "Use `open( file_path , mode = ' ' )` to process text files. While reading or writing to a file, access mode governs the type of operations possible in the opened file. Options for mode are:\n",
    "\n",
    "1.  `'r'` - read mode i.e. opens file for reading.\n",
    "2. `'a'` - append/add mode i.e. to add/append content to an existing file. Creates a new file, if such file doesn't exist.\n",
    "3.  `'w'` - write mode\n",
    "4. `'x'` - to create a new file\n",
    "\n",
    "There are a few other modes:\n",
    "1. `'rb'` - read in binary format\n",
    "2. `'rb+'` - read and write in binary format\n",
    "3. `'wb'` - write in binary format ...."
   ]
  },
  {
   "cell_type": "code",
   "execution_count": 5,
   "metadata": {},
   "outputs": [],
   "source": [
    "# create a new empty file called myfile.txt in cwd\n",
    "# run code once, otherwise will get error\n",
    "# new_file = open(\"myfile.txt\", mode='x')"
   ]
  },
  {
   "cell_type": "code",
   "execution_count": 6,
   "metadata": {},
   "outputs": [
    {
     "data": {
      "text/plain": [
       "['basic-python.ipynb',\n",
       " 'myfile.txt',\n",
       " 'sample-iris-data',\n",
       " 'sample_text_file.txt']"
      ]
     },
     "execution_count": 6,
     "metadata": {},
     "output_type": "execute_result"
    }
   ],
   "source": [
    "os.listdir()"
   ]
  },
  {
   "cell_type": "code",
   "execution_count": 13,
   "metadata": {},
   "outputs": [],
   "source": [
    "# open the .txt file in write mode and then close it \n",
    "new_file = open(\"myfile.txt\", \"w\")\n",
    "new_file.write(\"This is my first time writing .txt file using Python\")\n",
    "new_file.close()"
   ]
  },
  {
   "cell_type": "code",
   "execution_count": 16,
   "metadata": {},
   "outputs": [
    {
     "data": {
      "text/plain": [
       "'This is my first time writing .txt file using Python'"
      ]
     },
     "execution_count": 16,
     "metadata": {},
     "output_type": "execute_result"
    }
   ],
   "source": [
    "# to read the contents of the file, reopen the file in read mode\n",
    "new_file = open(\"myfile.txt\", \"r\")\n",
    "new_file.read()"
   ]
  },
  {
   "cell_type": "markdown",
   "metadata": {},
   "source": [
    "`file_name.write( str, \"w\")` over-writes the contents in the existing text file. "
   ]
  },
  {
   "cell_type": "code",
   "execution_count": 17,
   "metadata": {},
   "outputs": [],
   "source": [
    "new_file.close() # close it "
   ]
  },
  {
   "cell_type": "code",
   "execution_count": 18,
   "metadata": {},
   "outputs": [],
   "source": [
    "new_file = open(\"myfile.txt\", \"w\")\n",
    "new_file.write(\"Does the write function overwrite existing contents?\")\n",
    "new_file.close()"
   ]
  },
  {
   "cell_type": "code",
   "execution_count": 19,
   "metadata": {},
   "outputs": [
    {
     "data": {
      "text/plain": [
       "'Does the write function overwrite existing contents?'"
      ]
     },
     "execution_count": 19,
     "metadata": {},
     "output_type": "execute_result"
    }
   ],
   "source": [
    "new_file = open(\"myfile.txt\", \"r\")\n",
    "new_file.read()"
   ]
  },
  {
   "cell_type": "code",
   "execution_count": 20,
   "metadata": {},
   "outputs": [],
   "source": [
    "new_file.close()"
   ]
  },
  {
   "cell_type": "markdown",
   "metadata": {},
   "source": [
    "Use `file_name.write( str, \"a\")` to add contents to existing file. Note that the content gets added to the end of the text file."
   ]
  },
  {
   "cell_type": "code",
   "execution_count": 22,
   "metadata": {},
   "outputs": [
    {
     "data": {
      "text/plain": [
       "42"
      ]
     },
     "execution_count": 22,
     "metadata": {},
     "output_type": "execute_result"
    }
   ],
   "source": [
    "new_file = open(\"myfile.txt\", \"a\")\n",
    "new_file.write(\"It does so only when opened in write mode.\")"
   ]
  },
  {
   "cell_type": "code",
   "execution_count": 23,
   "metadata": {},
   "outputs": [],
   "source": [
    "new_file.close()"
   ]
  },
  {
   "cell_type": "markdown",
   "metadata": {},
   "source": [
    "Notice how we have to open and close the file everytime. This is inconvinent. To avoid this issue, we can use `with` statements."
   ]
  },
  {
   "cell_type": "code",
   "execution_count": 5,
   "metadata": {},
   "outputs": [],
   "source": [
    "with open(\"myfile.txt\", \"a\") as f:\n",
    "    f.write(\"The file closes once the with statement ends. We don't have to use the new_file.close command as well.\")"
   ]
  },
  {
   "cell_type": "code",
   "execution_count": 8,
   "metadata": {},
   "outputs": [
    {
     "name": "stdout",
     "output_type": "stream",
     "text": [
      "Does the write function overwrite existing contents?It does so only when opened in write mode.The file closes once the with statement ends. We don't have to use the new_file.close command as well.\n"
     ]
    }
   ],
   "source": [
    "with open(\"myfile.txt\", \"r\") as f:\n",
    "    print(f.read())"
   ]
  },
  {
   "cell_type": "markdown",
   "metadata": {},
   "source": [
    "https://www.w3resource.com/python-exercises/numpy/basic/numpy-basic-exercise-38.php"
   ]
  },
  {
   "cell_type": "markdown",
   "metadata": {},
   "source": [
    "Working with NumPy arrays\n",
    "1. `np.reshape()`\n",
    "2. `np.empty()`"
   ]
  },
  {
   "cell_type": "markdown",
   "metadata": {},
   "source": [
    "NumPy allow us to give one of new shape parameter as -1 (eg: (2,-1) or (-1,3) but **not** (-1, -1)). It simply means that it is an unknown dimension and we want NumPy to figure it out. And NumPy will figure this by looking at the 'length of the array and remaining dimensions' and making sure that the new shape is compatible with the original shape."
   ]
  },
  {
   "cell_type": "code",
   "execution_count": 3,
   "metadata": {},
   "outputs": [
    {
     "data": {
      "text/plain": [
       "(3, 4)"
      ]
     },
     "execution_count": 3,
     "metadata": {},
     "output_type": "execute_result"
    }
   ],
   "source": [
    "# create an array \n",
    "z = np.array([[1,2,3,4],\n",
    "               [5,6,7,8],\n",
    "               [9,10,11,12]])\n",
    "z.shape"
   ]
  },
  {
   "cell_type": "code",
   "execution_count": 8,
   "metadata": {},
   "outputs": [
    {
     "name": "stdout",
     "output_type": "stream",
     "text": [
      "(12,)\n"
     ]
    },
    {
     "data": {
      "text/plain": [
       "array([ 1,  2,  3,  4,  5,  6,  7,  8,  9, 10, 11, 12])"
      ]
     },
     "execution_count": 8,
     "metadata": {},
     "output_type": "execute_result"
    }
   ],
   "source": [
    "# it vectorizes the data into column vectors\n",
    "z_reshaped = z.reshape(-1) \n",
    "print(z_reshaped.shape) ; z_reshaped # vectorized by row"
   ]
  },
  {
   "cell_type": "code",
   "execution_count": 9,
   "metadata": {},
   "outputs": [
    {
     "data": {
      "text/plain": [
       "array([[ 1,  2],\n",
       "       [ 3,  4],\n",
       "       [ 5,  6],\n",
       "       [ 7,  8],\n",
       "       [ 9, 10],\n",
       "       [11, 12]])"
      ]
     },
     "execution_count": 9,
     "metadata": {},
     "output_type": "execute_result"
    }
   ],
   "source": [
    "z.reshape(-1, 2) # unknown num of rows but 2 cols"
   ]
  },
  {
   "cell_type": "code",
   "execution_count": 11,
   "metadata": {},
   "outputs": [
    {
     "data": {
      "text/plain": [
       "(1, 12)"
      ]
     },
     "execution_count": 11,
     "metadata": {},
     "output_type": "execute_result"
    }
   ],
   "source": [
    "# here, we set one row and unknown cols\n",
    "z.reshape(1, -1).shape"
   ]
  },
  {
   "cell_type": "markdown",
   "metadata": {},
   "source": [
    "`np.empty` returns a new array of given shape and type, without initializing entries."
   ]
  },
  {
   "cell_type": "code",
   "execution_count": 19,
   "metadata": {},
   "outputs": [
    {
     "data": {
      "text/plain": [
       "array([[0.00000000e+000, 6.61422510e-312],\n",
       "       [6.61422509e-312, 6.61422509e-312]])"
      ]
     },
     "execution_count": 19,
     "metadata": {},
     "output_type": "execute_result"
    }
   ],
   "source": [
    "a = np.empty((2,2))\n",
    "a"
   ]
  },
  {
   "cell_type": "code",
   "execution_count": 21,
   "metadata": {},
   "outputs": [
    {
     "data": {
      "text/plain": [
       "array([[ 1337391035, -1866779007],\n",
       "       [ -122212677,  -752865888]])"
      ]
     },
     "execution_count": 21,
     "metadata": {},
     "output_type": "execute_result"
    }
   ],
   "source": [
    "# default dtype is float \n",
    "a = np.empty(shape=(2,2), dtype=int)\n",
    "a"
   ]
  },
  {
   "cell_type": "code",
   "execution_count": 25,
   "metadata": {},
   "outputs": [
    {
     "data": {
      "text/plain": [
       "(0, 2)"
      ]
     },
     "execution_count": 25,
     "metadata": {},
     "output_type": "execute_result"
    }
   ],
   "source": [
    "# what does shape 0 mean?\n",
    "# why is it useful?\n",
    "b = np.empty(shape=(0,2))\n",
    "b.shape"
   ]
  },
  {
   "cell_type": "markdown",
   "metadata": {},
   "source": [
    "`np.apply_along_axis(func1d = , axis = 0, arr = , ... )` \\\n",
    "`axis = 0` applies function along columns. `axis = 0` applies function along rows\n"
   ]
  },
  {
   "cell_type": "code",
   "execution_count": null,
   "metadata": {},
   "outputs": [
    {
     "data": {
      "text/plain": [
       "array([ 2.,  5.,  8., 11.])"
      ]
     },
     "execution_count": 6,
     "metadata": {},
     "output_type": "execute_result"
    }
   ],
   "source": [
    "#Average first and last element of a 1-D array\n",
    "def my_func(a):\n",
    "    return (a[0] + a[-1])*0.5\n",
    "\n",
    "b = np.array([[1,2,3], [4,5,6], [7,8,9],[10,11,12]])\n",
    "\n",
    "np.apply_along_axis(my_func, 1, b) # along rows"
   ]
  },
  {
   "cell_type": "code",
   "execution_count": 7,
   "metadata": {},
   "outputs": [
    {
     "data": {
      "text/plain": [
       "array([[ 1,  2,  3],\n",
       "       [ 4,  5,  6],\n",
       "       [ 7,  8,  9],\n",
       "       [10, 11, 12]])"
      ]
     },
     "execution_count": 7,
     "metadata": {},
     "output_type": "execute_result"
    }
   ],
   "source": [
    "np.apply_along_axis(sorted, 1, b)"
   ]
  },
  {
   "cell_type": "code",
   "execution_count": 8,
   "metadata": {},
   "outputs": [
    {
     "data": {
      "text/plain": [
       "array([[[ 1,  0,  0],\n",
       "        [ 0,  2,  0],\n",
       "        [ 0,  0,  3]],\n",
       "\n",
       "       [[ 4,  0,  0],\n",
       "        [ 0,  5,  0],\n",
       "        [ 0,  0,  6]],\n",
       "\n",
       "       [[ 7,  0,  0],\n",
       "        [ 0,  8,  0],\n",
       "        [ 0,  0,  9]],\n",
       "\n",
       "       [[10,  0,  0],\n",
       "        [ 0, 11,  0],\n",
       "        [ 0,  0, 12]]])"
      ]
     },
     "execution_count": 8,
     "metadata": {},
     "output_type": "execute_result"
    }
   ],
   "source": [
    "np.apply_along_axis(np.diag, -1, b)"
   ]
  },
  {
   "cell_type": "markdown",
   "metadata": {},
   "source": [
    "Tolerance for Floating-Point Comparison: `np.isclose(np.linalg.norm(u), 1, atol=1e-9)`"
   ]
  },
  {
   "cell_type": "code",
   "execution_count": 2,
   "metadata": {},
   "outputs": [
    {
     "data": {
      "text/plain": [
       "array([ True, False])"
      ]
     },
     "execution_count": 2,
     "metadata": {},
     "output_type": "execute_result"
    }
   ],
   "source": [
    "# compares each ordered list\n",
    "np.less([0, 2], [2, 2]) \n",
    "\n",
    "# The < operator is shorthand for np.less\n",
    "a = np.array([1, 2])\n",
    "b = np.array([2, 2])\n",
    "a < b"
   ]
  },
  {
   "cell_type": "markdown",
   "metadata": {},
   "source": [
    "Similarly `np.greater` (and its corresponding `>` operator), `np.equal`, `np.not_equal` ,`np.greater_equal`, `np.less_equal`"
   ]
  },
  {
   "cell_type": "code",
   "execution_count": 3,
   "metadata": {},
   "outputs": [
    {
     "name": "stdout",
     "output_type": "stream",
     "text": [
      "[ True False]\n",
      "[False  True]\n",
      "[[False  True]\n",
      " [False  True]]\n"
     ]
    }
   ],
   "source": [
    "print(np.greater([4,2],[2,2]))\n",
    "\n",
    "print(np.not_equal([1.,2.], [1., 3.]))\n",
    "print(np.not_equal([1, 2], [[1, 3],[1, 4]]))"
   ]
  },
  {
   "cell_type": "markdown",
   "metadata": {},
   "source": [
    "use `np.newaxis` to create an additional dimension. Note that `...` mean \"all existing dimensions\""
   ]
  },
  {
   "cell_type": "code",
   "execution_count": 5,
   "metadata": {},
   "outputs": [
    {
     "name": "stdout",
     "output_type": "stream",
     "text": [
      "(5, 7)\n",
      "(5, 7, 1)\n"
     ]
    },
    {
     "data": {
      "text/plain": [
       "array([[0.37506881, 0.30578965, 0.84391689, 0.12430801, 0.15955344,\n",
       "        0.4710746 , 0.00150184],\n",
       "       [0.02179871, 0.78600676, 0.33002911, 0.24088821, 0.34641145,\n",
       "        0.34603568, 0.16517296],\n",
       "       [0.7388497 , 0.14384383, 0.58230479, 0.12829159, 0.28792213,\n",
       "        0.0463683 , 0.80188196],\n",
       "       [0.4604551 , 0.57529989, 0.72119362, 0.14707281, 0.34974417,\n",
       "        0.58172569, 0.40603798],\n",
       "       [0.21569591, 0.46383352, 0.34564811, 0.61026984, 0.43184137,\n",
       "        0.09586428, 0.08650372]])"
      ]
     },
     "execution_count": 5,
     "metadata": {},
     "output_type": "execute_result"
    }
   ],
   "source": [
    "w = sp.stats.beta.rvs(1, 2, size=(5, 7))\n",
    "w_new = w[...,np.newaxis]\n",
    "print(w.shape); print(w_new.shape)\n",
    "w_new[:,:,0]"
   ]
  }
 ],
 "metadata": {
  "kernelspec": {
   "display_name": "general",
   "language": "python",
   "name": "python3"
  },
  "language_info": {
   "codemirror_mode": {
    "name": "ipython",
    "version": 3
   },
   "file_extension": ".py",
   "mimetype": "text/x-python",
   "name": "python",
   "nbconvert_exporter": "python",
   "pygments_lexer": "ipython3",
   "version": "3.12.7"
  }
 },
 "nbformat": 4,
 "nbformat_minor": 2
}
